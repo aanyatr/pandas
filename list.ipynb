{
 "cells": [
  {
   "cell_type": "code",
   "execution_count": 1,
   "id": "b3142ff0",
   "metadata": {},
   "outputs": [],
   "source": [
    "dict={'First Name':['aanya','fatima','rohan','aditi'],\n",
    "      'Last Name': ['tripathi','kashtvari','bali','tripathi'],\n",
    "     'email':['aanya@gmail.com','f@gmail.com','bali@gmail.com','as@gmail.com']}"
   ]
  },
  {
   "cell_type": "code",
   "execution_count": 2,
   "id": "eebaee8c",
   "metadata": {},
   "outputs": [
    {
     "data": {
      "text/plain": [
       "['aanya', 'fatima', 'rohan', 'aditi']"
      ]
     },
     "execution_count": 2,
     "metadata": {},
     "output_type": "execute_result"
    }
   ],
   "source": [
    "dict['First Name']"
   ]
  },
  {
   "cell_type": "code",
   "execution_count": 3,
   "id": "fdc8eec5",
   "metadata": {},
   "outputs": [
    {
     "data": {
      "text/plain": [
       "['tripathi', 'kashtvari', 'bali', 'tripathi']"
      ]
     },
     "execution_count": 3,
     "metadata": {},
     "output_type": "execute_result"
    }
   ],
   "source": [
    "dict['Last Name']"
   ]
  },
  {
   "cell_type": "code",
   "execution_count": 4,
   "id": "cb4fadc0",
   "metadata": {},
   "outputs": [],
   "source": [
    "import pandas as pd"
   ]
  },
  {
   "cell_type": "code",
   "execution_count": 5,
   "id": "6b3f6fad",
   "metadata": {},
   "outputs": [],
   "source": [
    "df= pd.DataFrame(dict)"
   ]
  },
  {
   "cell_type": "code",
   "execution_count": 6,
   "id": "65bff3a3",
   "metadata": {},
   "outputs": [
    {
     "data": {
      "text/html": [
       "<div>\n",
       "<style scoped>\n",
       "    .dataframe tbody tr th:only-of-type {\n",
       "        vertical-align: middle;\n",
       "    }\n",
       "\n",
       "    .dataframe tbody tr th {\n",
       "        vertical-align: top;\n",
       "    }\n",
       "\n",
       "    .dataframe thead th {\n",
       "        text-align: right;\n",
       "    }\n",
       "</style>\n",
       "<table border=\"1\" class=\"dataframe\">\n",
       "  <thead>\n",
       "    <tr style=\"text-align: right;\">\n",
       "      <th></th>\n",
       "      <th>First Name</th>\n",
       "      <th>Last Name</th>\n",
       "      <th>email</th>\n",
       "    </tr>\n",
       "  </thead>\n",
       "  <tbody>\n",
       "    <tr>\n",
       "      <th>0</th>\n",
       "      <td>aanya</td>\n",
       "      <td>tripathi</td>\n",
       "      <td>aanya@gmail.com</td>\n",
       "    </tr>\n",
       "    <tr>\n",
       "      <th>1</th>\n",
       "      <td>fatima</td>\n",
       "      <td>kashtvari</td>\n",
       "      <td>f@gmail.com</td>\n",
       "    </tr>\n",
       "    <tr>\n",
       "      <th>2</th>\n",
       "      <td>rohan</td>\n",
       "      <td>bali</td>\n",
       "      <td>bali@gmail.com</td>\n",
       "    </tr>\n",
       "    <tr>\n",
       "      <th>3</th>\n",
       "      <td>aditi</td>\n",
       "      <td>tripathi</td>\n",
       "      <td>as@gmail.com</td>\n",
       "    </tr>\n",
       "  </tbody>\n",
       "</table>\n",
       "</div>"
      ],
      "text/plain": [
       "  First Name  Last Name            email\n",
       "0      aanya   tripathi  aanya@gmail.com\n",
       "1     fatima  kashtvari      f@gmail.com\n",
       "2      rohan       bali   bali@gmail.com\n",
       "3      aditi   tripathi     as@gmail.com"
      ]
     },
     "execution_count": 6,
     "metadata": {},
     "output_type": "execute_result"
    }
   ],
   "source": [
    "df"
   ]
  },
  {
   "cell_type": "code",
   "execution_count": 7,
   "id": "3a2b7263",
   "metadata": {},
   "outputs": [
    {
     "data": {
      "text/plain": [
       "0     aanya\n",
       "1    fatima\n",
       "2     rohan\n",
       "3     aditi\n",
       "Name: First Name, dtype: object"
      ]
     },
     "execution_count": 7,
     "metadata": {},
     "output_type": "execute_result"
    }
   ],
   "source": [
    "df['First Name']"
   ]
  },
  {
   "cell_type": "code",
   "execution_count": 8,
   "id": "def5fb8e",
   "metadata": {},
   "outputs": [
    {
     "data": {
      "text/html": [
       "<div>\n",
       "<style scoped>\n",
       "    .dataframe tbody tr th:only-of-type {\n",
       "        vertical-align: middle;\n",
       "    }\n",
       "\n",
       "    .dataframe tbody tr th {\n",
       "        vertical-align: top;\n",
       "    }\n",
       "\n",
       "    .dataframe thead th {\n",
       "        text-align: right;\n",
       "    }\n",
       "</style>\n",
       "<table border=\"1\" class=\"dataframe\">\n",
       "  <thead>\n",
       "    <tr style=\"text-align: right;\">\n",
       "      <th></th>\n",
       "      <th>First Name</th>\n",
       "      <th>Last Name</th>\n",
       "    </tr>\n",
       "  </thead>\n",
       "  <tbody>\n",
       "    <tr>\n",
       "      <th>0</th>\n",
       "      <td>aanya</td>\n",
       "      <td>tripathi</td>\n",
       "    </tr>\n",
       "    <tr>\n",
       "      <th>1</th>\n",
       "      <td>fatima</td>\n",
       "      <td>kashtvari</td>\n",
       "    </tr>\n",
       "    <tr>\n",
       "      <th>2</th>\n",
       "      <td>rohan</td>\n",
       "      <td>bali</td>\n",
       "    </tr>\n",
       "    <tr>\n",
       "      <th>3</th>\n",
       "      <td>aditi</td>\n",
       "      <td>tripathi</td>\n",
       "    </tr>\n",
       "  </tbody>\n",
       "</table>\n",
       "</div>"
      ],
      "text/plain": [
       "  First Name  Last Name\n",
       "0      aanya   tripathi\n",
       "1     fatima  kashtvari\n",
       "2      rohan       bali\n",
       "3      aditi   tripathi"
      ]
     },
     "execution_count": 8,
     "metadata": {},
     "output_type": "execute_result"
    }
   ],
   "source": [
    "df[['First Name','Last Name']]"
   ]
  },
  {
   "cell_type": "code",
   "execution_count": 9,
   "id": "0863d641",
   "metadata": {},
   "outputs": [
    {
     "data": {
      "text/plain": [
       "pandas.core.series.Series"
      ]
     },
     "execution_count": 9,
     "metadata": {},
     "output_type": "execute_result"
    }
   ],
   "source": [
    "type(df['First Name'])"
   ]
  },
  {
   "cell_type": "code",
   "execution_count": 10,
   "id": "a826e06a",
   "metadata": {},
   "outputs": [
    {
     "data": {
      "text/plain": [
       "0    aanya@gmail.com\n",
       "1        f@gmail.com\n",
       "2     bali@gmail.com\n",
       "3       as@gmail.com\n",
       "Name: email, dtype: object"
      ]
     },
     "execution_count": 10,
     "metadata": {},
     "output_type": "execute_result"
    }
   ],
   "source": [
    "df.email"
   ]
  },
  {
   "cell_type": "code",
   "execution_count": 11,
   "id": "4a9310f5",
   "metadata": {},
   "outputs": [
    {
     "data": {
      "text/html": [
       "<div>\n",
       "<style scoped>\n",
       "    .dataframe tbody tr th:only-of-type {\n",
       "        vertical-align: middle;\n",
       "    }\n",
       "\n",
       "    .dataframe tbody tr th {\n",
       "        vertical-align: top;\n",
       "    }\n",
       "\n",
       "    .dataframe thead th {\n",
       "        text-align: right;\n",
       "    }\n",
       "</style>\n",
       "<table border=\"1\" class=\"dataframe\">\n",
       "  <thead>\n",
       "    <tr style=\"text-align: right;\">\n",
       "      <th></th>\n",
       "      <th>First Name</th>\n",
       "      <th>Last Name</th>\n",
       "      <th>email</th>\n",
       "    </tr>\n",
       "  </thead>\n",
       "  <tbody>\n",
       "    <tr>\n",
       "      <th>0</th>\n",
       "      <td>aanya</td>\n",
       "      <td>tripathi</td>\n",
       "      <td>aanya@gmail.com</td>\n",
       "    </tr>\n",
       "    <tr>\n",
       "      <th>1</th>\n",
       "      <td>fatima</td>\n",
       "      <td>kashtvari</td>\n",
       "      <td>f@gmail.com</td>\n",
       "    </tr>\n",
       "    <tr>\n",
       "      <th>2</th>\n",
       "      <td>rohan</td>\n",
       "      <td>bali</td>\n",
       "      <td>bali@gmail.com</td>\n",
       "    </tr>\n",
       "    <tr>\n",
       "      <th>3</th>\n",
       "      <td>aditi</td>\n",
       "      <td>tripathi</td>\n",
       "      <td>as@gmail.com</td>\n",
       "    </tr>\n",
       "  </tbody>\n",
       "</table>\n",
       "</div>"
      ],
      "text/plain": [
       "  First Name  Last Name            email\n",
       "0      aanya   tripathi  aanya@gmail.com\n",
       "1     fatima  kashtvari      f@gmail.com\n",
       "2      rohan       bali   bali@gmail.com\n",
       "3      aditi   tripathi     as@gmail.com"
      ]
     },
     "execution_count": 11,
     "metadata": {},
     "output_type": "execute_result"
    }
   ],
   "source": [
    "df[['First Name','Last Name','email']]"
   ]
  },
  {
   "cell_type": "code",
   "execution_count": 12,
   "id": "1a7fb6d3",
   "metadata": {},
   "outputs": [
    {
     "data": {
      "text/plain": [
       "Index(['First Name', 'Last Name', 'email'], dtype='object')"
      ]
     },
     "execution_count": 12,
     "metadata": {},
     "output_type": "execute_result"
    }
   ],
   "source": [
    "df.columns"
   ]
  },
  {
   "cell_type": "code",
   "execution_count": 13,
   "id": "2a532cde",
   "metadata": {},
   "outputs": [
    {
     "data": {
      "text/plain": [
       "First Name              aanya\n",
       "Last Name            tripathi\n",
       "email         aanya@gmail.com\n",
       "Name: 0, dtype: object"
      ]
     },
     "execution_count": 13,
     "metadata": {},
     "output_type": "execute_result"
    }
   ],
   "source": [
    "df.iloc[0]\n",
    "# loc and iloc to access rows in dictionary\n",
    "# iloc is used to search using the integer location "
   ]
  },
  {
   "cell_type": "code",
   "execution_count": 14,
   "id": "4347ae35",
   "metadata": {},
   "outputs": [
    {
     "data": {
      "text/plain": [
       "'tripathi'"
      ]
     },
     "execution_count": 14,
     "metadata": {},
     "output_type": "execute_result"
    }
   ],
   "source": [
    "df.iloc[0,1]"
   ]
  },
  {
   "cell_type": "code",
   "execution_count": 15,
   "id": "679f7934",
   "metadata": {},
   "outputs": [
    {
     "data": {
      "text/html": [
       "<div>\n",
       "<style scoped>\n",
       "    .dataframe tbody tr th:only-of-type {\n",
       "        vertical-align: middle;\n",
       "    }\n",
       "\n",
       "    .dataframe tbody tr th {\n",
       "        vertical-align: top;\n",
       "    }\n",
       "\n",
       "    .dataframe thead th {\n",
       "        text-align: right;\n",
       "    }\n",
       "</style>\n",
       "<table border=\"1\" class=\"dataframe\">\n",
       "  <thead>\n",
       "    <tr style=\"text-align: right;\">\n",
       "      <th></th>\n",
       "      <th>First Name</th>\n",
       "      <th>Last Name</th>\n",
       "      <th>email</th>\n",
       "    </tr>\n",
       "  </thead>\n",
       "  <tbody>\n",
       "    <tr>\n",
       "      <th>0</th>\n",
       "      <td>aanya</td>\n",
       "      <td>tripathi</td>\n",
       "      <td>aanya@gmail.com</td>\n",
       "    </tr>\n",
       "    <tr>\n",
       "      <th>1</th>\n",
       "      <td>fatima</td>\n",
       "      <td>kashtvari</td>\n",
       "      <td>f@gmail.com</td>\n",
       "    </tr>\n",
       "  </tbody>\n",
       "</table>\n",
       "</div>"
      ],
      "text/plain": [
       "  First Name  Last Name            email\n",
       "0      aanya   tripathi  aanya@gmail.com\n",
       "1     fatima  kashtvari      f@gmail.com"
      ]
     },
     "execution_count": 15,
     "metadata": {},
     "output_type": "execute_result"
    }
   ],
   "source": [
    "df.iloc[[0,1]]"
   ]
  },
  {
   "cell_type": "code",
   "execution_count": 16,
   "id": "470863ed",
   "metadata": {},
   "outputs": [
    {
     "data": {
      "text/plain": [
       "0     tripathi\n",
       "1    kashtvari\n",
       "Name: Last Name, dtype: object"
      ]
     },
     "execution_count": 16,
     "metadata": {},
     "output_type": "execute_result"
    }
   ],
   "source": [
    "df.iloc[[0,1],1]\n",
    "# iloc is used to find and search of the columns as well, \n",
    "#the first column has location 0 and thus the last column email has loc 2."
   ]
  },
  {
   "cell_type": "code",
   "execution_count": 17,
   "id": "9f3b72ae",
   "metadata": {},
   "outputs": [
    {
     "data": {
      "text/html": [
       "<div>\n",
       "<style scoped>\n",
       "    .dataframe tbody tr th:only-of-type {\n",
       "        vertical-align: middle;\n",
       "    }\n",
       "\n",
       "    .dataframe tbody tr th {\n",
       "        vertical-align: top;\n",
       "    }\n",
       "\n",
       "    .dataframe thead th {\n",
       "        text-align: right;\n",
       "    }\n",
       "</style>\n",
       "<table border=\"1\" class=\"dataframe\">\n",
       "  <thead>\n",
       "    <tr style=\"text-align: right;\">\n",
       "      <th></th>\n",
       "      <th>First Name</th>\n",
       "      <th>Last Name</th>\n",
       "      <th>email</th>\n",
       "    </tr>\n",
       "  </thead>\n",
       "  <tbody>\n",
       "    <tr>\n",
       "      <th>0</th>\n",
       "      <td>aanya</td>\n",
       "      <td>tripathi</td>\n",
       "      <td>aanya@gmail.com</td>\n",
       "    </tr>\n",
       "    <tr>\n",
       "      <th>1</th>\n",
       "      <td>fatima</td>\n",
       "      <td>kashtvari</td>\n",
       "      <td>f@gmail.com</td>\n",
       "    </tr>\n",
       "    <tr>\n",
       "      <th>2</th>\n",
       "      <td>rohan</td>\n",
       "      <td>bali</td>\n",
       "      <td>bali@gmail.com</td>\n",
       "    </tr>\n",
       "    <tr>\n",
       "      <th>3</th>\n",
       "      <td>aditi</td>\n",
       "      <td>tripathi</td>\n",
       "      <td>as@gmail.com</td>\n",
       "    </tr>\n",
       "  </tbody>\n",
       "</table>\n",
       "</div>"
      ],
      "text/plain": [
       "  First Name  Last Name            email\n",
       "0      aanya   tripathi  aanya@gmail.com\n",
       "1     fatima  kashtvari      f@gmail.com\n",
       "2      rohan       bali   bali@gmail.com\n",
       "3      aditi   tripathi     as@gmail.com"
      ]
     },
     "execution_count": 17,
     "metadata": {},
     "output_type": "execute_result"
    }
   ],
   "source": [
    "df"
   ]
  },
  {
   "cell_type": "code",
   "execution_count": 18,
   "id": "330384dd",
   "metadata": {},
   "outputs": [
    {
     "data": {
      "text/plain": [
       "First Name              aanya\n",
       "Last Name            tripathi\n",
       "email         aanya@gmail.com\n",
       "Name: 0, dtype: object"
      ]
     },
     "execution_count": 18,
     "metadata": {},
     "output_type": "execute_result"
    }
   ],
   "source": [
    "df.loc[0]\n",
    "# loc is used to "
   ]
  },
  {
   "cell_type": "code",
   "execution_count": 19,
   "id": "8cd35069",
   "metadata": {},
   "outputs": [
    {
     "data": {
      "text/html": [
       "<div>\n",
       "<style scoped>\n",
       "    .dataframe tbody tr th:only-of-type {\n",
       "        vertical-align: middle;\n",
       "    }\n",
       "\n",
       "    .dataframe tbody tr th {\n",
       "        vertical-align: top;\n",
       "    }\n",
       "\n",
       "    .dataframe thead th {\n",
       "        text-align: right;\n",
       "    }\n",
       "</style>\n",
       "<table border=\"1\" class=\"dataframe\">\n",
       "  <thead>\n",
       "    <tr style=\"text-align: right;\">\n",
       "      <th></th>\n",
       "      <th>email</th>\n",
       "      <th>Last Name</th>\n",
       "    </tr>\n",
       "  </thead>\n",
       "  <tbody>\n",
       "    <tr>\n",
       "      <th>0</th>\n",
       "      <td>aanya@gmail.com</td>\n",
       "      <td>tripathi</td>\n",
       "    </tr>\n",
       "    <tr>\n",
       "      <th>2</th>\n",
       "      <td>bali@gmail.com</td>\n",
       "      <td>bali</td>\n",
       "    </tr>\n",
       "  </tbody>\n",
       "</table>\n",
       "</div>"
      ],
      "text/plain": [
       "             email Last Name\n",
       "0  aanya@gmail.com  tripathi\n",
       "2   bali@gmail.com      bali"
      ]
     },
     "execution_count": 19,
     "metadata": {},
     "output_type": "execute_result"
    }
   ],
   "source": [
    "df.loc[[0,2],['email','Last Name']]\n",
    "# loc can be used to determine the rows and columns as well, Remember to keep in a list \n"
   ]
  },
  {
   "cell_type": "code",
   "execution_count": 20,
   "id": "61fab2aa",
   "metadata": {},
   "outputs": [
    {
     "data": {
      "text/html": [
       "<div>\n",
       "<style scoped>\n",
       "    .dataframe tbody tr th:only-of-type {\n",
       "        vertical-align: middle;\n",
       "    }\n",
       "\n",
       "    .dataframe tbody tr th {\n",
       "        vertical-align: top;\n",
       "    }\n",
       "\n",
       "    .dataframe thead th {\n",
       "        text-align: right;\n",
       "    }\n",
       "</style>\n",
       "<table border=\"1\" class=\"dataframe\">\n",
       "  <thead>\n",
       "    <tr style=\"text-align: right;\">\n",
       "      <th></th>\n",
       "      <th>First Name</th>\n",
       "      <th>Last Name</th>\n",
       "      <th>email</th>\n",
       "    </tr>\n",
       "  </thead>\n",
       "  <tbody>\n",
       "    <tr>\n",
       "      <th>0</th>\n",
       "      <td>aanya</td>\n",
       "      <td>tripathi</td>\n",
       "      <td>aanya@gmail.com</td>\n",
       "    </tr>\n",
       "    <tr>\n",
       "      <th>1</th>\n",
       "      <td>fatima</td>\n",
       "      <td>kashtvari</td>\n",
       "      <td>f@gmail.com</td>\n",
       "    </tr>\n",
       "    <tr>\n",
       "      <th>2</th>\n",
       "      <td>rohan</td>\n",
       "      <td>bali</td>\n",
       "      <td>bali@gmail.com</td>\n",
       "    </tr>\n",
       "    <tr>\n",
       "      <th>3</th>\n",
       "      <td>aditi</td>\n",
       "      <td>tripathi</td>\n",
       "      <td>as@gmail.com</td>\n",
       "    </tr>\n",
       "  </tbody>\n",
       "</table>\n",
       "</div>"
      ],
      "text/plain": [
       "  First Name  Last Name            email\n",
       "0      aanya   tripathi  aanya@gmail.com\n",
       "1     fatima  kashtvari      f@gmail.com\n",
       "2      rohan       bali   bali@gmail.com\n",
       "3      aditi   tripathi     as@gmail.com"
      ]
     },
     "execution_count": 20,
     "metadata": {},
     "output_type": "execute_result"
    }
   ],
   "source": [
    "df\n"
   ]
  },
  {
   "cell_type": "code",
   "execution_count": 21,
   "id": "0ba07b85",
   "metadata": {},
   "outputs": [
    {
     "data": {
      "text/html": [
       "<div>\n",
       "<style scoped>\n",
       "    .dataframe tbody tr th:only-of-type {\n",
       "        vertical-align: middle;\n",
       "    }\n",
       "\n",
       "    .dataframe tbody tr th {\n",
       "        vertical-align: top;\n",
       "    }\n",
       "\n",
       "    .dataframe thead th {\n",
       "        text-align: right;\n",
       "    }\n",
       "</style>\n",
       "<table border=\"1\" class=\"dataframe\">\n",
       "  <thead>\n",
       "    <tr style=\"text-align: right;\">\n",
       "      <th></th>\n",
       "      <th>First Name</th>\n",
       "      <th>Last Name</th>\n",
       "    </tr>\n",
       "    <tr>\n",
       "      <th>email</th>\n",
       "      <th></th>\n",
       "      <th></th>\n",
       "    </tr>\n",
       "  </thead>\n",
       "  <tbody>\n",
       "    <tr>\n",
       "      <th>aanya@gmail.com</th>\n",
       "      <td>aanya</td>\n",
       "      <td>tripathi</td>\n",
       "    </tr>\n",
       "    <tr>\n",
       "      <th>f@gmail.com</th>\n",
       "      <td>fatima</td>\n",
       "      <td>kashtvari</td>\n",
       "    </tr>\n",
       "    <tr>\n",
       "      <th>bali@gmail.com</th>\n",
       "      <td>rohan</td>\n",
       "      <td>bali</td>\n",
       "    </tr>\n",
       "    <tr>\n",
       "      <th>as@gmail.com</th>\n",
       "      <td>aditi</td>\n",
       "      <td>tripathi</td>\n",
       "    </tr>\n",
       "  </tbody>\n",
       "</table>\n",
       "</div>"
      ],
      "text/plain": [
       "                First Name  Last Name\n",
       "email                                \n",
       "aanya@gmail.com      aanya   tripathi\n",
       "f@gmail.com         fatima  kashtvari\n",
       "bali@gmail.com       rohan       bali\n",
       "as@gmail.com         aditi   tripathi"
      ]
     },
     "execution_count": 21,
     "metadata": {},
     "output_type": "execute_result"
    }
   ],
   "source": [
    "df.set_index('email')"
   ]
  },
  {
   "cell_type": "code",
   "execution_count": 22,
   "id": "42634bb6",
   "metadata": {},
   "outputs": [
    {
     "data": {
      "text/html": [
       "<div>\n",
       "<style scoped>\n",
       "    .dataframe tbody tr th:only-of-type {\n",
       "        vertical-align: middle;\n",
       "    }\n",
       "\n",
       "    .dataframe tbody tr th {\n",
       "        vertical-align: top;\n",
       "    }\n",
       "\n",
       "    .dataframe thead th {\n",
       "        text-align: right;\n",
       "    }\n",
       "</style>\n",
       "<table border=\"1\" class=\"dataframe\">\n",
       "  <thead>\n",
       "    <tr style=\"text-align: right;\">\n",
       "      <th></th>\n",
       "      <th>First Name</th>\n",
       "      <th>Last Name</th>\n",
       "      <th>email</th>\n",
       "    </tr>\n",
       "  </thead>\n",
       "  <tbody>\n",
       "    <tr>\n",
       "      <th>0</th>\n",
       "      <td>aanya</td>\n",
       "      <td>tripathi</td>\n",
       "      <td>aanya@gmail.com</td>\n",
       "    </tr>\n",
       "    <tr>\n",
       "      <th>1</th>\n",
       "      <td>fatima</td>\n",
       "      <td>kashtvari</td>\n",
       "      <td>f@gmail.com</td>\n",
       "    </tr>\n",
       "    <tr>\n",
       "      <th>2</th>\n",
       "      <td>rohan</td>\n",
       "      <td>bali</td>\n",
       "      <td>bali@gmail.com</td>\n",
       "    </tr>\n",
       "    <tr>\n",
       "      <th>3</th>\n",
       "      <td>aditi</td>\n",
       "      <td>tripathi</td>\n",
       "      <td>as@gmail.com</td>\n",
       "    </tr>\n",
       "  </tbody>\n",
       "</table>\n",
       "</div>"
      ],
      "text/plain": [
       "  First Name  Last Name            email\n",
       "0      aanya   tripathi  aanya@gmail.com\n",
       "1     fatima  kashtvari      f@gmail.com\n",
       "2      rohan       bali   bali@gmail.com\n",
       "3      aditi   tripathi     as@gmail.com"
      ]
     },
     "execution_count": 22,
     "metadata": {},
     "output_type": "execute_result"
    }
   ],
   "source": [
    "df"
   ]
  },
  {
   "cell_type": "code",
   "execution_count": 23,
   "id": "6184e1f4",
   "metadata": {},
   "outputs": [
    {
     "data": {
      "text/plain": [
       "RangeIndex(start=0, stop=4, step=1)"
      ]
     },
     "execution_count": 23,
     "metadata": {},
     "output_type": "execute_result"
    }
   ],
   "source": [
    "df.index"
   ]
  },
  {
   "cell_type": "code",
   "execution_count": 24,
   "id": "ca1332fc",
   "metadata": {},
   "outputs": [],
   "source": [
    "df.set_index('First Name', inplace=True)"
   ]
  },
  {
   "cell_type": "code",
   "execution_count": 25,
   "id": "5a4ab23e",
   "metadata": {},
   "outputs": [
    {
     "data": {
      "text/html": [
       "<div>\n",
       "<style scoped>\n",
       "    .dataframe tbody tr th:only-of-type {\n",
       "        vertical-align: middle;\n",
       "    }\n",
       "\n",
       "    .dataframe tbody tr th {\n",
       "        vertical-align: top;\n",
       "    }\n",
       "\n",
       "    .dataframe thead th {\n",
       "        text-align: right;\n",
       "    }\n",
       "</style>\n",
       "<table border=\"1\" class=\"dataframe\">\n",
       "  <thead>\n",
       "    <tr style=\"text-align: right;\">\n",
       "      <th></th>\n",
       "      <th>Last Name</th>\n",
       "      <th>email</th>\n",
       "    </tr>\n",
       "    <tr>\n",
       "      <th>First Name</th>\n",
       "      <th></th>\n",
       "      <th></th>\n",
       "    </tr>\n",
       "  </thead>\n",
       "  <tbody>\n",
       "    <tr>\n",
       "      <th>aanya</th>\n",
       "      <td>tripathi</td>\n",
       "      <td>aanya@gmail.com</td>\n",
       "    </tr>\n",
       "    <tr>\n",
       "      <th>fatima</th>\n",
       "      <td>kashtvari</td>\n",
       "      <td>f@gmail.com</td>\n",
       "    </tr>\n",
       "    <tr>\n",
       "      <th>rohan</th>\n",
       "      <td>bali</td>\n",
       "      <td>bali@gmail.com</td>\n",
       "    </tr>\n",
       "    <tr>\n",
       "      <th>aditi</th>\n",
       "      <td>tripathi</td>\n",
       "      <td>as@gmail.com</td>\n",
       "    </tr>\n",
       "  </tbody>\n",
       "</table>\n",
       "</div>"
      ],
      "text/plain": [
       "            Last Name            email\n",
       "First Name                            \n",
       "aanya        tripathi  aanya@gmail.com\n",
       "fatima      kashtvari      f@gmail.com\n",
       "rohan            bali   bali@gmail.com\n",
       "aditi        tripathi     as@gmail.com"
      ]
     },
     "execution_count": 25,
     "metadata": {},
     "output_type": "execute_result"
    }
   ],
   "source": [
    "df"
   ]
  },
  {
   "cell_type": "code",
   "execution_count": 26,
   "id": "5fa73f71",
   "metadata": {},
   "outputs": [],
   "source": [
    "df.reset_index(inplace=True)"
   ]
  },
  {
   "cell_type": "code",
   "execution_count": 27,
   "id": "1de64f03",
   "metadata": {},
   "outputs": [
    {
     "data": {
      "text/html": [
       "<div>\n",
       "<style scoped>\n",
       "    .dataframe tbody tr th:only-of-type {\n",
       "        vertical-align: middle;\n",
       "    }\n",
       "\n",
       "    .dataframe tbody tr th {\n",
       "        vertical-align: top;\n",
       "    }\n",
       "\n",
       "    .dataframe thead th {\n",
       "        text-align: right;\n",
       "    }\n",
       "</style>\n",
       "<table border=\"1\" class=\"dataframe\">\n",
       "  <thead>\n",
       "    <tr style=\"text-align: right;\">\n",
       "      <th></th>\n",
       "      <th>First Name</th>\n",
       "      <th>Last Name</th>\n",
       "      <th>email</th>\n",
       "    </tr>\n",
       "  </thead>\n",
       "  <tbody>\n",
       "    <tr>\n",
       "      <th>0</th>\n",
       "      <td>aanya</td>\n",
       "      <td>tripathi</td>\n",
       "      <td>aanya@gmail.com</td>\n",
       "    </tr>\n",
       "    <tr>\n",
       "      <th>1</th>\n",
       "      <td>fatima</td>\n",
       "      <td>kashtvari</td>\n",
       "      <td>f@gmail.com</td>\n",
       "    </tr>\n",
       "    <tr>\n",
       "      <th>2</th>\n",
       "      <td>rohan</td>\n",
       "      <td>bali</td>\n",
       "      <td>bali@gmail.com</td>\n",
       "    </tr>\n",
       "    <tr>\n",
       "      <th>3</th>\n",
       "      <td>aditi</td>\n",
       "      <td>tripathi</td>\n",
       "      <td>as@gmail.com</td>\n",
       "    </tr>\n",
       "  </tbody>\n",
       "</table>\n",
       "</div>"
      ],
      "text/plain": [
       "  First Name  Last Name            email\n",
       "0      aanya   tripathi  aanya@gmail.com\n",
       "1     fatima  kashtvari      f@gmail.com\n",
       "2      rohan       bali   bali@gmail.com\n",
       "3      aditi   tripathi     as@gmail.com"
      ]
     },
     "execution_count": 27,
     "metadata": {},
     "output_type": "execute_result"
    }
   ],
   "source": [
    "df"
   ]
  },
  {
   "cell_type": "code",
   "execution_count": 28,
   "id": "16ffe446",
   "metadata": {},
   "outputs": [],
   "source": [
    "filt=(df ['Last Name'] == 'tripathi') & (df['First Name']=='aanya')"
   ]
  },
  {
   "cell_type": "code",
   "execution_count": 29,
   "id": "4373aea1",
   "metadata": {},
   "outputs": [
    {
     "data": {
      "text/html": [
       "<div>\n",
       "<style scoped>\n",
       "    .dataframe tbody tr th:only-of-type {\n",
       "        vertical-align: middle;\n",
       "    }\n",
       "\n",
       "    .dataframe tbody tr th {\n",
       "        vertical-align: top;\n",
       "    }\n",
       "\n",
       "    .dataframe thead th {\n",
       "        text-align: right;\n",
       "    }\n",
       "</style>\n",
       "<table border=\"1\" class=\"dataframe\">\n",
       "  <thead>\n",
       "    <tr style=\"text-align: right;\">\n",
       "      <th></th>\n",
       "      <th>First Name</th>\n",
       "      <th>Last Name</th>\n",
       "      <th>email</th>\n",
       "    </tr>\n",
       "  </thead>\n",
       "  <tbody>\n",
       "    <tr>\n",
       "      <th>0</th>\n",
       "      <td>aanya</td>\n",
       "      <td>tripathi</td>\n",
       "      <td>aanya@gmail.com</td>\n",
       "    </tr>\n",
       "  </tbody>\n",
       "</table>\n",
       "</div>"
      ],
      "text/plain": [
       "  First Name Last Name            email\n",
       "0      aanya  tripathi  aanya@gmail.com"
      ]
     },
     "execution_count": 29,
     "metadata": {},
     "output_type": "execute_result"
    }
   ],
   "source": [
    "df.loc[filt]"
   ]
  },
  {
   "cell_type": "code",
   "execution_count": 30,
   "id": "7903f670",
   "metadata": {},
   "outputs": [],
   "source": [
    "filt1= (df['First Name']== 'aditi') | (df['Last Name']=='bali')"
   ]
  },
  {
   "cell_type": "code",
   "execution_count": 31,
   "id": "3a1ab600",
   "metadata": {},
   "outputs": [
    {
     "data": {
      "text/html": [
       "<div>\n",
       "<style scoped>\n",
       "    .dataframe tbody tr th:only-of-type {\n",
       "        vertical-align: middle;\n",
       "    }\n",
       "\n",
       "    .dataframe tbody tr th {\n",
       "        vertical-align: top;\n",
       "    }\n",
       "\n",
       "    .dataframe thead th {\n",
       "        text-align: right;\n",
       "    }\n",
       "</style>\n",
       "<table border=\"1\" class=\"dataframe\">\n",
       "  <thead>\n",
       "    <tr style=\"text-align: right;\">\n",
       "      <th></th>\n",
       "      <th>First Name</th>\n",
       "      <th>Last Name</th>\n",
       "      <th>email</th>\n",
       "    </tr>\n",
       "  </thead>\n",
       "  <tbody>\n",
       "    <tr>\n",
       "      <th>2</th>\n",
       "      <td>rohan</td>\n",
       "      <td>bali</td>\n",
       "      <td>bali@gmail.com</td>\n",
       "    </tr>\n",
       "    <tr>\n",
       "      <th>3</th>\n",
       "      <td>aditi</td>\n",
       "      <td>tripathi</td>\n",
       "      <td>as@gmail.com</td>\n",
       "    </tr>\n",
       "  </tbody>\n",
       "</table>\n",
       "</div>"
      ],
      "text/plain": [
       "  First Name Last Name           email\n",
       "2      rohan      bali  bali@gmail.com\n",
       "3      aditi  tripathi    as@gmail.com"
      ]
     },
     "execution_count": 31,
     "metadata": {},
     "output_type": "execute_result"
    }
   ],
   "source": [
    "df.loc[filt1]"
   ]
  },
  {
   "cell_type": "code",
   "execution_count": 32,
   "id": "acc61912",
   "metadata": {},
   "outputs": [
    {
     "data": {
      "text/plain": [
       "2    bali@gmail.com\n",
       "3      as@gmail.com\n",
       "Name: email, dtype: object"
      ]
     },
     "execution_count": 32,
     "metadata": {},
     "output_type": "execute_result"
    }
   ],
   "source": [
    "df.loc[filt1,'email']"
   ]
  },
  {
   "cell_type": "code",
   "execution_count": 33,
   "id": "2dcf8ef5",
   "metadata": {},
   "outputs": [
    {
     "data": {
      "text/plain": [
       "Index(['First Name', 'Last Name', 'email'], dtype='object')"
      ]
     },
     "execution_count": 33,
     "metadata": {},
     "output_type": "execute_result"
    }
   ],
   "source": [
    "df.columns"
   ]
  },
  {
   "cell_type": "code",
   "execution_count": 34,
   "id": "bd2aa148",
   "metadata": {},
   "outputs": [],
   "source": [
    "df.columns=['first','last','email id']"
   ]
  },
  {
   "cell_type": "code",
   "execution_count": 35,
   "id": "df30bcd3",
   "metadata": {},
   "outputs": [
    {
     "data": {
      "text/html": [
       "<div>\n",
       "<style scoped>\n",
       "    .dataframe tbody tr th:only-of-type {\n",
       "        vertical-align: middle;\n",
       "    }\n",
       "\n",
       "    .dataframe tbody tr th {\n",
       "        vertical-align: top;\n",
       "    }\n",
       "\n",
       "    .dataframe thead th {\n",
       "        text-align: right;\n",
       "    }\n",
       "</style>\n",
       "<table border=\"1\" class=\"dataframe\">\n",
       "  <thead>\n",
       "    <tr style=\"text-align: right;\">\n",
       "      <th></th>\n",
       "      <th>first</th>\n",
       "      <th>last</th>\n",
       "      <th>email id</th>\n",
       "    </tr>\n",
       "  </thead>\n",
       "  <tbody>\n",
       "    <tr>\n",
       "      <th>0</th>\n",
       "      <td>aanya</td>\n",
       "      <td>tripathi</td>\n",
       "      <td>aanya@gmail.com</td>\n",
       "    </tr>\n",
       "    <tr>\n",
       "      <th>1</th>\n",
       "      <td>fatima</td>\n",
       "      <td>kashtvari</td>\n",
       "      <td>f@gmail.com</td>\n",
       "    </tr>\n",
       "    <tr>\n",
       "      <th>2</th>\n",
       "      <td>rohan</td>\n",
       "      <td>bali</td>\n",
       "      <td>bali@gmail.com</td>\n",
       "    </tr>\n",
       "    <tr>\n",
       "      <th>3</th>\n",
       "      <td>aditi</td>\n",
       "      <td>tripathi</td>\n",
       "      <td>as@gmail.com</td>\n",
       "    </tr>\n",
       "  </tbody>\n",
       "</table>\n",
       "</div>"
      ],
      "text/plain": [
       "    first       last         email id\n",
       "0   aanya   tripathi  aanya@gmail.com\n",
       "1  fatima  kashtvari      f@gmail.com\n",
       "2   rohan       bali   bali@gmail.com\n",
       "3   aditi   tripathi     as@gmail.com"
      ]
     },
     "execution_count": 35,
     "metadata": {},
     "output_type": "execute_result"
    }
   ],
   "source": [
    "df"
   ]
  },
  {
   "cell_type": "code",
   "execution_count": 36,
   "id": "70e0423e",
   "metadata": {},
   "outputs": [],
   "source": [
    "df.columns=[x.upper()for x in df.columns]"
   ]
  },
  {
   "cell_type": "code",
   "execution_count": 37,
   "id": "413f88fd",
   "metadata": {},
   "outputs": [
    {
     "data": {
      "text/html": [
       "<div>\n",
       "<style scoped>\n",
       "    .dataframe tbody tr th:only-of-type {\n",
       "        vertical-align: middle;\n",
       "    }\n",
       "\n",
       "    .dataframe tbody tr th {\n",
       "        vertical-align: top;\n",
       "    }\n",
       "\n",
       "    .dataframe thead th {\n",
       "        text-align: right;\n",
       "    }\n",
       "</style>\n",
       "<table border=\"1\" class=\"dataframe\">\n",
       "  <thead>\n",
       "    <tr style=\"text-align: right;\">\n",
       "      <th></th>\n",
       "      <th>FIRST</th>\n",
       "      <th>LAST</th>\n",
       "      <th>EMAIL ID</th>\n",
       "    </tr>\n",
       "  </thead>\n",
       "  <tbody>\n",
       "    <tr>\n",
       "      <th>0</th>\n",
       "      <td>aanya</td>\n",
       "      <td>tripathi</td>\n",
       "      <td>aanya@gmail.com</td>\n",
       "    </tr>\n",
       "    <tr>\n",
       "      <th>1</th>\n",
       "      <td>fatima</td>\n",
       "      <td>kashtvari</td>\n",
       "      <td>f@gmail.com</td>\n",
       "    </tr>\n",
       "    <tr>\n",
       "      <th>2</th>\n",
       "      <td>rohan</td>\n",
       "      <td>bali</td>\n",
       "      <td>bali@gmail.com</td>\n",
       "    </tr>\n",
       "    <tr>\n",
       "      <th>3</th>\n",
       "      <td>aditi</td>\n",
       "      <td>tripathi</td>\n",
       "      <td>as@gmail.com</td>\n",
       "    </tr>\n",
       "  </tbody>\n",
       "</table>\n",
       "</div>"
      ],
      "text/plain": [
       "    FIRST       LAST         EMAIL ID\n",
       "0   aanya   tripathi  aanya@gmail.com\n",
       "1  fatima  kashtvari      f@gmail.com\n",
       "2   rohan       bali   bali@gmail.com\n",
       "3   aditi   tripathi     as@gmail.com"
      ]
     },
     "execution_count": 37,
     "metadata": {},
     "output_type": "execute_result"
    }
   ],
   "source": [
    "df"
   ]
  },
  {
   "cell_type": "code",
   "execution_count": 38,
   "id": "eb7ad089",
   "metadata": {},
   "outputs": [],
   "source": [
    "df.columns=df.columns.str.replace(' ','_')"
   ]
  },
  {
   "cell_type": "code",
   "execution_count": 39,
   "id": "9f9e5987",
   "metadata": {},
   "outputs": [
    {
     "data": {
      "text/html": [
       "<div>\n",
       "<style scoped>\n",
       "    .dataframe tbody tr th:only-of-type {\n",
       "        vertical-align: middle;\n",
       "    }\n",
       "\n",
       "    .dataframe tbody tr th {\n",
       "        vertical-align: top;\n",
       "    }\n",
       "\n",
       "    .dataframe thead th {\n",
       "        text-align: right;\n",
       "    }\n",
       "</style>\n",
       "<table border=\"1\" class=\"dataframe\">\n",
       "  <thead>\n",
       "    <tr style=\"text-align: right;\">\n",
       "      <th></th>\n",
       "      <th>FIRST</th>\n",
       "      <th>LAST</th>\n",
       "      <th>EMAIL_ID</th>\n",
       "    </tr>\n",
       "  </thead>\n",
       "  <tbody>\n",
       "    <tr>\n",
       "      <th>0</th>\n",
       "      <td>aanya</td>\n",
       "      <td>tripathi</td>\n",
       "      <td>aanya@gmail.com</td>\n",
       "    </tr>\n",
       "    <tr>\n",
       "      <th>1</th>\n",
       "      <td>fatima</td>\n",
       "      <td>kashtvari</td>\n",
       "      <td>f@gmail.com</td>\n",
       "    </tr>\n",
       "    <tr>\n",
       "      <th>2</th>\n",
       "      <td>rohan</td>\n",
       "      <td>bali</td>\n",
       "      <td>bali@gmail.com</td>\n",
       "    </tr>\n",
       "    <tr>\n",
       "      <th>3</th>\n",
       "      <td>aditi</td>\n",
       "      <td>tripathi</td>\n",
       "      <td>as@gmail.com</td>\n",
       "    </tr>\n",
       "  </tbody>\n",
       "</table>\n",
       "</div>"
      ],
      "text/plain": [
       "    FIRST       LAST         EMAIL_ID\n",
       "0   aanya   tripathi  aanya@gmail.com\n",
       "1  fatima  kashtvari      f@gmail.com\n",
       "2   rohan       bali   bali@gmail.com\n",
       "3   aditi   tripathi     as@gmail.com"
      ]
     },
     "execution_count": 39,
     "metadata": {},
     "output_type": "execute_result"
    }
   ],
   "source": [
    "df"
   ]
  },
  {
   "cell_type": "code",
   "execution_count": 40,
   "id": "bdb933bb",
   "metadata": {},
   "outputs": [],
   "source": [
    "df.columns=[x.lower() for x in df.columns]"
   ]
  },
  {
   "cell_type": "code",
   "execution_count": 41,
   "id": "1362c006",
   "metadata": {},
   "outputs": [
    {
     "data": {
      "text/html": [
       "<div>\n",
       "<style scoped>\n",
       "    .dataframe tbody tr th:only-of-type {\n",
       "        vertical-align: middle;\n",
       "    }\n",
       "\n",
       "    .dataframe tbody tr th {\n",
       "        vertical-align: top;\n",
       "    }\n",
       "\n",
       "    .dataframe thead th {\n",
       "        text-align: right;\n",
       "    }\n",
       "</style>\n",
       "<table border=\"1\" class=\"dataframe\">\n",
       "  <thead>\n",
       "    <tr style=\"text-align: right;\">\n",
       "      <th></th>\n",
       "      <th>first</th>\n",
       "      <th>last</th>\n",
       "      <th>email_id</th>\n",
       "    </tr>\n",
       "  </thead>\n",
       "  <tbody>\n",
       "    <tr>\n",
       "      <th>0</th>\n",
       "      <td>aanya</td>\n",
       "      <td>tripathi</td>\n",
       "      <td>aanya@gmail.com</td>\n",
       "    </tr>\n",
       "    <tr>\n",
       "      <th>1</th>\n",
       "      <td>fatima</td>\n",
       "      <td>kashtvari</td>\n",
       "      <td>f@gmail.com</td>\n",
       "    </tr>\n",
       "    <tr>\n",
       "      <th>2</th>\n",
       "      <td>rohan</td>\n",
       "      <td>bali</td>\n",
       "      <td>bali@gmail.com</td>\n",
       "    </tr>\n",
       "    <tr>\n",
       "      <th>3</th>\n",
       "      <td>aditi</td>\n",
       "      <td>tripathi</td>\n",
       "      <td>as@gmail.com</td>\n",
       "    </tr>\n",
       "  </tbody>\n",
       "</table>\n",
       "</div>"
      ],
      "text/plain": [
       "    first       last         email_id\n",
       "0   aanya   tripathi  aanya@gmail.com\n",
       "1  fatima  kashtvari      f@gmail.com\n",
       "2   rohan       bali   bali@gmail.com\n",
       "3   aditi   tripathi     as@gmail.com"
      ]
     },
     "execution_count": 41,
     "metadata": {},
     "output_type": "execute_result"
    }
   ],
   "source": [
    "df\n"
   ]
  },
  {
   "cell_type": "code",
   "execution_count": 42,
   "id": "3f44ab08",
   "metadata": {},
   "outputs": [],
   "source": [
    "df.rename(columns={'first':'First_Name',\n",
    "'last':'Last_Name', 'email_id':'Email_ID'}, inplace=True)"
   ]
  },
  {
   "cell_type": "code",
   "execution_count": 43,
   "id": "a65a0093",
   "metadata": {},
   "outputs": [
    {
     "data": {
      "text/html": [
       "<div>\n",
       "<style scoped>\n",
       "    .dataframe tbody tr th:only-of-type {\n",
       "        vertical-align: middle;\n",
       "    }\n",
       "\n",
       "    .dataframe tbody tr th {\n",
       "        vertical-align: top;\n",
       "    }\n",
       "\n",
       "    .dataframe thead th {\n",
       "        text-align: right;\n",
       "    }\n",
       "</style>\n",
       "<table border=\"1\" class=\"dataframe\">\n",
       "  <thead>\n",
       "    <tr style=\"text-align: right;\">\n",
       "      <th></th>\n",
       "      <th>First_Name</th>\n",
       "      <th>Last_Name</th>\n",
       "      <th>Email_ID</th>\n",
       "    </tr>\n",
       "  </thead>\n",
       "  <tbody>\n",
       "    <tr>\n",
       "      <th>0</th>\n",
       "      <td>aanya</td>\n",
       "      <td>tripathi</td>\n",
       "      <td>aanya@gmail.com</td>\n",
       "    </tr>\n",
       "    <tr>\n",
       "      <th>1</th>\n",
       "      <td>fatima</td>\n",
       "      <td>kashtvari</td>\n",
       "      <td>f@gmail.com</td>\n",
       "    </tr>\n",
       "    <tr>\n",
       "      <th>2</th>\n",
       "      <td>rohan</td>\n",
       "      <td>bali</td>\n",
       "      <td>bali@gmail.com</td>\n",
       "    </tr>\n",
       "    <tr>\n",
       "      <th>3</th>\n",
       "      <td>aditi</td>\n",
       "      <td>tripathi</td>\n",
       "      <td>as@gmail.com</td>\n",
       "    </tr>\n",
       "  </tbody>\n",
       "</table>\n",
       "</div>"
      ],
      "text/plain": [
       "  First_Name  Last_Name         Email_ID\n",
       "0      aanya   tripathi  aanya@gmail.com\n",
       "1     fatima  kashtvari      f@gmail.com\n",
       "2      rohan       bali   bali@gmail.com\n",
       "3      aditi   tripathi     as@gmail.com"
      ]
     },
     "execution_count": 43,
     "metadata": {},
     "output_type": "execute_result"
    }
   ],
   "source": [
    "df"
   ]
  },
  {
   "cell_type": "code",
   "execution_count": 44,
   "id": "cb39cec3",
   "metadata": {},
   "outputs": [],
   "source": [
    "df.at[2]=['Rohan','Bali','bali@gmail.com']"
   ]
  },
  {
   "cell_type": "code",
   "execution_count": 45,
   "id": "1238d2ab",
   "metadata": {},
   "outputs": [
    {
     "data": {
      "text/html": [
       "<div>\n",
       "<style scoped>\n",
       "    .dataframe tbody tr th:only-of-type {\n",
       "        vertical-align: middle;\n",
       "    }\n",
       "\n",
       "    .dataframe tbody tr th {\n",
       "        vertical-align: top;\n",
       "    }\n",
       "\n",
       "    .dataframe thead th {\n",
       "        text-align: right;\n",
       "    }\n",
       "</style>\n",
       "<table border=\"1\" class=\"dataframe\">\n",
       "  <thead>\n",
       "    <tr style=\"text-align: right;\">\n",
       "      <th></th>\n",
       "      <th>First_Name</th>\n",
       "      <th>Last_Name</th>\n",
       "      <th>Email_ID</th>\n",
       "    </tr>\n",
       "  </thead>\n",
       "  <tbody>\n",
       "    <tr>\n",
       "      <th>0</th>\n",
       "      <td>aanya</td>\n",
       "      <td>tripathi</td>\n",
       "      <td>aanya@gmail.com</td>\n",
       "    </tr>\n",
       "    <tr>\n",
       "      <th>1</th>\n",
       "      <td>fatima</td>\n",
       "      <td>kashtvari</td>\n",
       "      <td>f@gmail.com</td>\n",
       "    </tr>\n",
       "    <tr>\n",
       "      <th>2</th>\n",
       "      <td>Rohan</td>\n",
       "      <td>Bali</td>\n",
       "      <td>bali@gmail.com</td>\n",
       "    </tr>\n",
       "    <tr>\n",
       "      <th>3</th>\n",
       "      <td>aditi</td>\n",
       "      <td>tripathi</td>\n",
       "      <td>as@gmail.com</td>\n",
       "    </tr>\n",
       "  </tbody>\n",
       "</table>\n",
       "</div>"
      ],
      "text/plain": [
       "  First_Name  Last_Name         Email_ID\n",
       "0      aanya   tripathi  aanya@gmail.com\n",
       "1     fatima  kashtvari      f@gmail.com\n",
       "2      Rohan       Bali   bali@gmail.com\n",
       "3      aditi   tripathi     as@gmail.com"
      ]
     },
     "execution_count": 45,
     "metadata": {},
     "output_type": "execute_result"
    }
   ],
   "source": [
    "df"
   ]
  },
  {
   "cell_type": "code",
   "execution_count": 46,
   "id": "bc9f91b3",
   "metadata": {},
   "outputs": [],
   "source": [
    "df.loc[3,['Email_ID']]=['adii@gail.con']"
   ]
  },
  {
   "cell_type": "code",
   "execution_count": 47,
   "id": "60384d3b",
   "metadata": {},
   "outputs": [
    {
     "data": {
      "text/html": [
       "<div>\n",
       "<style scoped>\n",
       "    .dataframe tbody tr th:only-of-type {\n",
       "        vertical-align: middle;\n",
       "    }\n",
       "\n",
       "    .dataframe tbody tr th {\n",
       "        vertical-align: top;\n",
       "    }\n",
       "\n",
       "    .dataframe thead th {\n",
       "        text-align: right;\n",
       "    }\n",
       "</style>\n",
       "<table border=\"1\" class=\"dataframe\">\n",
       "  <thead>\n",
       "    <tr style=\"text-align: right;\">\n",
       "      <th></th>\n",
       "      <th>First_Name</th>\n",
       "      <th>Last_Name</th>\n",
       "      <th>Email_ID</th>\n",
       "    </tr>\n",
       "  </thead>\n",
       "  <tbody>\n",
       "    <tr>\n",
       "      <th>0</th>\n",
       "      <td>aanya</td>\n",
       "      <td>tripathi</td>\n",
       "      <td>aanya@gmail.com</td>\n",
       "    </tr>\n",
       "    <tr>\n",
       "      <th>1</th>\n",
       "      <td>fatima</td>\n",
       "      <td>kashtvari</td>\n",
       "      <td>f@gmail.com</td>\n",
       "    </tr>\n",
       "    <tr>\n",
       "      <th>2</th>\n",
       "      <td>Rohan</td>\n",
       "      <td>Bali</td>\n",
       "      <td>bali@gmail.com</td>\n",
       "    </tr>\n",
       "    <tr>\n",
       "      <th>3</th>\n",
       "      <td>aditi</td>\n",
       "      <td>tripathi</td>\n",
       "      <td>adii@gail.con</td>\n",
       "    </tr>\n",
       "  </tbody>\n",
       "</table>\n",
       "</div>"
      ],
      "text/plain": [
       "  First_Name  Last_Name         Email_ID\n",
       "0      aanya   tripathi  aanya@gmail.com\n",
       "1     fatima  kashtvari      f@gmail.com\n",
       "2      Rohan       Bali   bali@gmail.com\n",
       "3      aditi   tripathi    adii@gail.con"
      ]
     },
     "execution_count": 47,
     "metadata": {},
     "output_type": "execute_result"
    }
   ],
   "source": [
    "df"
   ]
  },
  {
   "cell_type": "code",
   "execution_count": 48,
   "id": "6c42810e",
   "metadata": {},
   "outputs": [],
   "source": [
    "df.loc[3,\"Last_Name\" ] = \"Tripathi\""
   ]
  },
  {
   "cell_type": "code",
   "execution_count": 49,
   "id": "b8794db0",
   "metadata": {},
   "outputs": [
    {
     "data": {
      "text/html": [
       "<div>\n",
       "<style scoped>\n",
       "    .dataframe tbody tr th:only-of-type {\n",
       "        vertical-align: middle;\n",
       "    }\n",
       "\n",
       "    .dataframe tbody tr th {\n",
       "        vertical-align: top;\n",
       "    }\n",
       "\n",
       "    .dataframe thead th {\n",
       "        text-align: right;\n",
       "    }\n",
       "</style>\n",
       "<table border=\"1\" class=\"dataframe\">\n",
       "  <thead>\n",
       "    <tr style=\"text-align: right;\">\n",
       "      <th></th>\n",
       "      <th>First_Name</th>\n",
       "      <th>Last_Name</th>\n",
       "      <th>Email_ID</th>\n",
       "    </tr>\n",
       "  </thead>\n",
       "  <tbody>\n",
       "    <tr>\n",
       "      <th>0</th>\n",
       "      <td>aanya</td>\n",
       "      <td>tripathi</td>\n",
       "      <td>aanya@gmail.com</td>\n",
       "    </tr>\n",
       "    <tr>\n",
       "      <th>1</th>\n",
       "      <td>fatima</td>\n",
       "      <td>kashtvari</td>\n",
       "      <td>f@gmail.com</td>\n",
       "    </tr>\n",
       "    <tr>\n",
       "      <th>2</th>\n",
       "      <td>Rohan</td>\n",
       "      <td>Bali</td>\n",
       "      <td>bali@gmail.com</td>\n",
       "    </tr>\n",
       "    <tr>\n",
       "      <th>3</th>\n",
       "      <td>aditi</td>\n",
       "      <td>Tripathi</td>\n",
       "      <td>adii@gail.con</td>\n",
       "    </tr>\n",
       "  </tbody>\n",
       "</table>\n",
       "</div>"
      ],
      "text/plain": [
       "  First_Name  Last_Name         Email_ID\n",
       "0      aanya   tripathi  aanya@gmail.com\n",
       "1     fatima  kashtvari      f@gmail.com\n",
       "2      Rohan       Bali   bali@gmail.com\n",
       "3      aditi   Tripathi    adii@gail.con"
      ]
     },
     "execution_count": 49,
     "metadata": {},
     "output_type": "execute_result"
    }
   ],
   "source": [
    "df"
   ]
  },
  {
   "cell_type": "code",
   "execution_count": 50,
   "id": "d45eed75",
   "metadata": {},
   "outputs": [],
   "source": [
    "df.at[3,'First_Name']=\"Aditi\""
   ]
  },
  {
   "cell_type": "code",
   "execution_count": 51,
   "id": "2ab3b066",
   "metadata": {},
   "outputs": [
    {
     "data": {
      "text/html": [
       "<div>\n",
       "<style scoped>\n",
       "    .dataframe tbody tr th:only-of-type {\n",
       "        vertical-align: middle;\n",
       "    }\n",
       "\n",
       "    .dataframe tbody tr th {\n",
       "        vertical-align: top;\n",
       "    }\n",
       "\n",
       "    .dataframe thead th {\n",
       "        text-align: right;\n",
       "    }\n",
       "</style>\n",
       "<table border=\"1\" class=\"dataframe\">\n",
       "  <thead>\n",
       "    <tr style=\"text-align: right;\">\n",
       "      <th></th>\n",
       "      <th>First_Name</th>\n",
       "      <th>Last_Name</th>\n",
       "      <th>Email_ID</th>\n",
       "    </tr>\n",
       "  </thead>\n",
       "  <tbody>\n",
       "    <tr>\n",
       "      <th>0</th>\n",
       "      <td>aanya</td>\n",
       "      <td>tripathi</td>\n",
       "      <td>aanya@gmail.com</td>\n",
       "    </tr>\n",
       "    <tr>\n",
       "      <th>1</th>\n",
       "      <td>fatima</td>\n",
       "      <td>kashtvari</td>\n",
       "      <td>f@gmail.com</td>\n",
       "    </tr>\n",
       "    <tr>\n",
       "      <th>2</th>\n",
       "      <td>Rohan</td>\n",
       "      <td>Bali</td>\n",
       "      <td>bali@gmail.com</td>\n",
       "    </tr>\n",
       "    <tr>\n",
       "      <th>3</th>\n",
       "      <td>Aditi</td>\n",
       "      <td>Tripathi</td>\n",
       "      <td>adii@gail.con</td>\n",
       "    </tr>\n",
       "  </tbody>\n",
       "</table>\n",
       "</div>"
      ],
      "text/plain": [
       "  First_Name  Last_Name         Email_ID\n",
       "0      aanya   tripathi  aanya@gmail.com\n",
       "1     fatima  kashtvari      f@gmail.com\n",
       "2      Rohan       Bali   bali@gmail.com\n",
       "3      Aditi   Tripathi    adii@gail.con"
      ]
     },
     "execution_count": 51,
     "metadata": {},
     "output_type": "execute_result"
    }
   ],
   "source": [
    "df"
   ]
  },
  {
   "cell_type": "code",
   "execution_count": 52,
   "id": "5076c909",
   "metadata": {},
   "outputs": [],
   "source": [
    "didii= (df[\"Email_ID\"] == 'adii@gail.con')\n",
    "df.loc[didii, \"Last_Name\"]='Didi'"
   ]
  },
  {
   "cell_type": "code",
   "execution_count": 53,
   "id": "89a8255f",
   "metadata": {},
   "outputs": [
    {
     "data": {
      "text/html": [
       "<div>\n",
       "<style scoped>\n",
       "    .dataframe tbody tr th:only-of-type {\n",
       "        vertical-align: middle;\n",
       "    }\n",
       "\n",
       "    .dataframe tbody tr th {\n",
       "        vertical-align: top;\n",
       "    }\n",
       "\n",
       "    .dataframe thead th {\n",
       "        text-align: right;\n",
       "    }\n",
       "</style>\n",
       "<table border=\"1\" class=\"dataframe\">\n",
       "  <thead>\n",
       "    <tr style=\"text-align: right;\">\n",
       "      <th></th>\n",
       "      <th>First_Name</th>\n",
       "      <th>Last_Name</th>\n",
       "      <th>Email_ID</th>\n",
       "    </tr>\n",
       "  </thead>\n",
       "  <tbody>\n",
       "    <tr>\n",
       "      <th>0</th>\n",
       "      <td>aanya</td>\n",
       "      <td>tripathi</td>\n",
       "      <td>aanya@gmail.com</td>\n",
       "    </tr>\n",
       "    <tr>\n",
       "      <th>1</th>\n",
       "      <td>fatima</td>\n",
       "      <td>kashtvari</td>\n",
       "      <td>f@gmail.com</td>\n",
       "    </tr>\n",
       "    <tr>\n",
       "      <th>2</th>\n",
       "      <td>Rohan</td>\n",
       "      <td>Bali</td>\n",
       "      <td>bali@gmail.com</td>\n",
       "    </tr>\n",
       "    <tr>\n",
       "      <th>3</th>\n",
       "      <td>Aditi</td>\n",
       "      <td>Didi</td>\n",
       "      <td>adii@gail.con</td>\n",
       "    </tr>\n",
       "  </tbody>\n",
       "</table>\n",
       "</div>"
      ],
      "text/plain": [
       "  First_Name  Last_Name         Email_ID\n",
       "0      aanya   tripathi  aanya@gmail.com\n",
       "1     fatima  kashtvari      f@gmail.com\n",
       "2      Rohan       Bali   bali@gmail.com\n",
       "3      Aditi       Didi    adii@gail.con"
      ]
     },
     "execution_count": 53,
     "metadata": {},
     "output_type": "execute_result"
    }
   ],
   "source": [
    "df"
   ]
  },
  {
   "cell_type": "code",
   "execution_count": 54,
   "id": "e34856c0",
   "metadata": {},
   "outputs": [],
   "source": [
    "f=df[\"First_Name\"]=='aanya'\n",
    "df.loc[f,'First_Name']='Aanya'\n"
   ]
  },
  {
   "cell_type": "code",
   "execution_count": 55,
   "id": "a9e607c1",
   "metadata": {},
   "outputs": [
    {
     "data": {
      "text/html": [
       "<div>\n",
       "<style scoped>\n",
       "    .dataframe tbody tr th:only-of-type {\n",
       "        vertical-align: middle;\n",
       "    }\n",
       "\n",
       "    .dataframe tbody tr th {\n",
       "        vertical-align: top;\n",
       "    }\n",
       "\n",
       "    .dataframe thead th {\n",
       "        text-align: right;\n",
       "    }\n",
       "</style>\n",
       "<table border=\"1\" class=\"dataframe\">\n",
       "  <thead>\n",
       "    <tr style=\"text-align: right;\">\n",
       "      <th></th>\n",
       "      <th>First_Name</th>\n",
       "      <th>Last_Name</th>\n",
       "      <th>Email_ID</th>\n",
       "    </tr>\n",
       "  </thead>\n",
       "  <tbody>\n",
       "    <tr>\n",
       "      <th>0</th>\n",
       "      <td>Aanya</td>\n",
       "      <td>tripathi</td>\n",
       "      <td>aanya@gmail.com</td>\n",
       "    </tr>\n",
       "    <tr>\n",
       "      <th>1</th>\n",
       "      <td>fatima</td>\n",
       "      <td>kashtvari</td>\n",
       "      <td>f@gmail.com</td>\n",
       "    </tr>\n",
       "    <tr>\n",
       "      <th>2</th>\n",
       "      <td>Rohan</td>\n",
       "      <td>Bali</td>\n",
       "      <td>bali@gmail.com</td>\n",
       "    </tr>\n",
       "    <tr>\n",
       "      <th>3</th>\n",
       "      <td>Aditi</td>\n",
       "      <td>Didi</td>\n",
       "      <td>adii@gail.con</td>\n",
       "    </tr>\n",
       "  </tbody>\n",
       "</table>\n",
       "</div>"
      ],
      "text/plain": [
       "  First_Name  Last_Name         Email_ID\n",
       "0      Aanya   tripathi  aanya@gmail.com\n",
       "1     fatima  kashtvari      f@gmail.com\n",
       "2      Rohan       Bali   bali@gmail.com\n",
       "3      Aditi       Didi    adii@gail.con"
      ]
     },
     "execution_count": 55,
     "metadata": {},
     "output_type": "execute_result"
    }
   ],
   "source": [
    "df"
   ]
  },
  {
   "cell_type": "code",
   "execution_count": 56,
   "id": "2a8d18d5",
   "metadata": {},
   "outputs": [],
   "source": [
    "df['Email_ID']=df['Email_ID'].str.upper()\n"
   ]
  },
  {
   "cell_type": "code",
   "execution_count": 57,
   "id": "71b76022",
   "metadata": {},
   "outputs": [
    {
     "data": {
      "text/html": [
       "<div>\n",
       "<style scoped>\n",
       "    .dataframe tbody tr th:only-of-type {\n",
       "        vertical-align: middle;\n",
       "    }\n",
       "\n",
       "    .dataframe tbody tr th {\n",
       "        vertical-align: top;\n",
       "    }\n",
       "\n",
       "    .dataframe thead th {\n",
       "        text-align: right;\n",
       "    }\n",
       "</style>\n",
       "<table border=\"1\" class=\"dataframe\">\n",
       "  <thead>\n",
       "    <tr style=\"text-align: right;\">\n",
       "      <th></th>\n",
       "      <th>First_Name</th>\n",
       "      <th>Last_Name</th>\n",
       "      <th>Email_ID</th>\n",
       "    </tr>\n",
       "  </thead>\n",
       "  <tbody>\n",
       "    <tr>\n",
       "      <th>0</th>\n",
       "      <td>Aanya</td>\n",
       "      <td>tripathi</td>\n",
       "      <td>AANYA@GMAIL.COM</td>\n",
       "    </tr>\n",
       "    <tr>\n",
       "      <th>1</th>\n",
       "      <td>fatima</td>\n",
       "      <td>kashtvari</td>\n",
       "      <td>F@GMAIL.COM</td>\n",
       "    </tr>\n",
       "    <tr>\n",
       "      <th>2</th>\n",
       "      <td>Rohan</td>\n",
       "      <td>Bali</td>\n",
       "      <td>BALI@GMAIL.COM</td>\n",
       "    </tr>\n",
       "    <tr>\n",
       "      <th>3</th>\n",
       "      <td>Aditi</td>\n",
       "      <td>Didi</td>\n",
       "      <td>ADII@GAIL.CON</td>\n",
       "    </tr>\n",
       "  </tbody>\n",
       "</table>\n",
       "</div>"
      ],
      "text/plain": [
       "  First_Name  Last_Name         Email_ID\n",
       "0      Aanya   tripathi  AANYA@GMAIL.COM\n",
       "1     fatima  kashtvari      F@GMAIL.COM\n",
       "2      Rohan       Bali   BALI@GMAIL.COM\n",
       "3      Aditi       Didi    ADII@GAIL.CON"
      ]
     },
     "execution_count": 57,
     "metadata": {},
     "output_type": "execute_result"
    }
   ],
   "source": [
    "df"
   ]
  },
  {
   "cell_type": "code",
   "execution_count": 58,
   "id": "4db4d576",
   "metadata": {},
   "outputs": [],
   "source": [
    "df['Email_ID']=df['Email_ID'].str.lower()\n",
    "\n"
   ]
  },
  {
   "cell_type": "code",
   "execution_count": 59,
   "id": "9789f00f",
   "metadata": {},
   "outputs": [
    {
     "data": {
      "text/html": [
       "<div>\n",
       "<style scoped>\n",
       "    .dataframe tbody tr th:only-of-type {\n",
       "        vertical-align: middle;\n",
       "    }\n",
       "\n",
       "    .dataframe tbody tr th {\n",
       "        vertical-align: top;\n",
       "    }\n",
       "\n",
       "    .dataframe thead th {\n",
       "        text-align: right;\n",
       "    }\n",
       "</style>\n",
       "<table border=\"1\" class=\"dataframe\">\n",
       "  <thead>\n",
       "    <tr style=\"text-align: right;\">\n",
       "      <th></th>\n",
       "      <th>First_Name</th>\n",
       "      <th>Last_Name</th>\n",
       "      <th>Email_ID</th>\n",
       "    </tr>\n",
       "  </thead>\n",
       "  <tbody>\n",
       "    <tr>\n",
       "      <th>0</th>\n",
       "      <td>Aanya</td>\n",
       "      <td>tripathi</td>\n",
       "      <td>aanya@gmail.com</td>\n",
       "    </tr>\n",
       "    <tr>\n",
       "      <th>1</th>\n",
       "      <td>fatima</td>\n",
       "      <td>kashtvari</td>\n",
       "      <td>f@gmail.com</td>\n",
       "    </tr>\n",
       "    <tr>\n",
       "      <th>2</th>\n",
       "      <td>Rohan</td>\n",
       "      <td>Bali</td>\n",
       "      <td>bali@gmail.com</td>\n",
       "    </tr>\n",
       "    <tr>\n",
       "      <th>3</th>\n",
       "      <td>Aditi</td>\n",
       "      <td>Didi</td>\n",
       "      <td>adii@gail.con</td>\n",
       "    </tr>\n",
       "  </tbody>\n",
       "</table>\n",
       "</div>"
      ],
      "text/plain": [
       "  First_Name  Last_Name         Email_ID\n",
       "0      Aanya   tripathi  aanya@gmail.com\n",
       "1     fatima  kashtvari      f@gmail.com\n",
       "2      Rohan       Bali   bali@gmail.com\n",
       "3      Aditi       Didi    adii@gail.con"
      ]
     },
     "execution_count": 59,
     "metadata": {},
     "output_type": "execute_result"
    }
   ],
   "source": [
    "df"
   ]
  },
  {
   "cell_type": "code",
   "execution_count": 60,
   "id": "4fc35723",
   "metadata": {},
   "outputs": [],
   "source": [
    "aditi_email=df['Email_ID']=='adii@gail.con'"
   ]
  },
  {
   "cell_type": "code",
   "execution_count": 61,
   "id": "37da274e",
   "metadata": {},
   "outputs": [],
   "source": [
    "df.loc[aditi_email,'Email_ID']='aditi@gmail.com'"
   ]
  },
  {
   "cell_type": "code",
   "execution_count": 62,
   "id": "d4b50c1e",
   "metadata": {},
   "outputs": [
    {
     "data": {
      "text/html": [
       "<div>\n",
       "<style scoped>\n",
       "    .dataframe tbody tr th:only-of-type {\n",
       "        vertical-align: middle;\n",
       "    }\n",
       "\n",
       "    .dataframe tbody tr th {\n",
       "        vertical-align: top;\n",
       "    }\n",
       "\n",
       "    .dataframe thead th {\n",
       "        text-align: right;\n",
       "    }\n",
       "</style>\n",
       "<table border=\"1\" class=\"dataframe\">\n",
       "  <thead>\n",
       "    <tr style=\"text-align: right;\">\n",
       "      <th></th>\n",
       "      <th>First_Name</th>\n",
       "      <th>Last_Name</th>\n",
       "      <th>Email_ID</th>\n",
       "    </tr>\n",
       "  </thead>\n",
       "  <tbody>\n",
       "    <tr>\n",
       "      <th>0</th>\n",
       "      <td>Aanya</td>\n",
       "      <td>tripathi</td>\n",
       "      <td>aanya@gmail.com</td>\n",
       "    </tr>\n",
       "    <tr>\n",
       "      <th>1</th>\n",
       "      <td>fatima</td>\n",
       "      <td>kashtvari</td>\n",
       "      <td>f@gmail.com</td>\n",
       "    </tr>\n",
       "    <tr>\n",
       "      <th>2</th>\n",
       "      <td>Rohan</td>\n",
       "      <td>Bali</td>\n",
       "      <td>bali@gmail.com</td>\n",
       "    </tr>\n",
       "    <tr>\n",
       "      <th>3</th>\n",
       "      <td>Aditi</td>\n",
       "      <td>Didi</td>\n",
       "      <td>aditi@gmail.com</td>\n",
       "    </tr>\n",
       "  </tbody>\n",
       "</table>\n",
       "</div>"
      ],
      "text/plain": [
       "  First_Name  Last_Name         Email_ID\n",
       "0      Aanya   tripathi  aanya@gmail.com\n",
       "1     fatima  kashtvari      f@gmail.com\n",
       "2      Rohan       Bali   bali@gmail.com\n",
       "3      Aditi       Didi  aditi@gmail.com"
      ]
     },
     "execution_count": 62,
     "metadata": {},
     "output_type": "execute_result"
    }
   ],
   "source": [
    "df"
   ]
  },
  {
   "cell_type": "code",
   "execution_count": 63,
   "id": "ad927f1d",
   "metadata": {},
   "outputs": [],
   "source": [
    "df.columns=['first','last','email']"
   ]
  },
  {
   "cell_type": "code",
   "execution_count": 64,
   "id": "6b9c2bef",
   "metadata": {},
   "outputs": [
    {
     "data": {
      "text/html": [
       "<div>\n",
       "<style scoped>\n",
       "    .dataframe tbody tr th:only-of-type {\n",
       "        vertical-align: middle;\n",
       "    }\n",
       "\n",
       "    .dataframe tbody tr th {\n",
       "        vertical-align: top;\n",
       "    }\n",
       "\n",
       "    .dataframe thead th {\n",
       "        text-align: right;\n",
       "    }\n",
       "</style>\n",
       "<table border=\"1\" class=\"dataframe\">\n",
       "  <thead>\n",
       "    <tr style=\"text-align: right;\">\n",
       "      <th></th>\n",
       "      <th>first</th>\n",
       "      <th>last</th>\n",
       "      <th>email</th>\n",
       "    </tr>\n",
       "  </thead>\n",
       "  <tbody>\n",
       "    <tr>\n",
       "      <th>0</th>\n",
       "      <td>Aanya</td>\n",
       "      <td>tripathi</td>\n",
       "      <td>aanya@gmail.com</td>\n",
       "    </tr>\n",
       "    <tr>\n",
       "      <th>1</th>\n",
       "      <td>fatima</td>\n",
       "      <td>kashtvari</td>\n",
       "      <td>f@gmail.com</td>\n",
       "    </tr>\n",
       "    <tr>\n",
       "      <th>2</th>\n",
       "      <td>Rohan</td>\n",
       "      <td>Bali</td>\n",
       "      <td>bali@gmail.com</td>\n",
       "    </tr>\n",
       "    <tr>\n",
       "      <th>3</th>\n",
       "      <td>Aditi</td>\n",
       "      <td>Didi</td>\n",
       "      <td>aditi@gmail.com</td>\n",
       "    </tr>\n",
       "  </tbody>\n",
       "</table>\n",
       "</div>"
      ],
      "text/plain": [
       "    first       last            email\n",
       "0   Aanya   tripathi  aanya@gmail.com\n",
       "1  fatima  kashtvari      f@gmail.com\n",
       "2   Rohan       Bali   bali@gmail.com\n",
       "3   Aditi       Didi  aditi@gmail.com"
      ]
     },
     "execution_count": 64,
     "metadata": {},
     "output_type": "execute_result"
    }
   ],
   "source": [
    "df"
   ]
  },
  {
   "cell_type": "code",
   "execution_count": 65,
   "id": "7ca5b410",
   "metadata": {},
   "outputs": [
    {
     "data": {
      "text/plain": [
       "0    15\n",
       "1    11\n",
       "2    14\n",
       "3    15\n",
       "Name: email, dtype: int64"
      ]
     },
     "execution_count": 65,
     "metadata": {},
     "output_type": "execute_result"
    }
   ],
   "source": [
    "# apply can only be used with series\n",
    "df['email'].apply(len)"
   ]
  },
  {
   "cell_type": "code",
   "execution_count": 66,
   "id": "377e7462",
   "metadata": {},
   "outputs": [
    {
     "data": {
      "text/plain": [
       "first    4\n",
       "last     4\n",
       "email    4\n",
       "dtype: int64"
      ]
     },
     "execution_count": 66,
     "metadata": {},
     "output_type": "execute_result"
    }
   ],
   "source": [
    "df.apply(len)"
   ]
  },
  {
   "cell_type": "code",
   "execution_count": 67,
   "id": "2f9faa11",
   "metadata": {},
   "outputs": [
    {
     "data": {
      "text/plain": [
       "0    3\n",
       "1    3\n",
       "2    3\n",
       "3    3\n",
       "dtype: int64"
      ]
     },
     "execution_count": 67,
     "metadata": {},
     "output_type": "execute_result"
    }
   ],
   "source": [
    "df.apply(len,axis='columns')"
   ]
  },
  {
   "cell_type": "code",
   "execution_count": 68,
   "id": "1c335e09",
   "metadata": {},
   "outputs": [],
   "source": [
    "def update_email(email):\n",
    "    return email.upper()"
   ]
  },
  {
   "cell_type": "markdown",
   "id": "76f73a00",
   "metadata": {},
   "source": [
    "df['email']=df['email'].apply(update_email)"
   ]
  },
  {
   "cell_type": "code",
   "execution_count": 69,
   "id": "ec09012b",
   "metadata": {},
   "outputs": [
    {
     "data": {
      "text/html": [
       "<div>\n",
       "<style scoped>\n",
       "    .dataframe tbody tr th:only-of-type {\n",
       "        vertical-align: middle;\n",
       "    }\n",
       "\n",
       "    .dataframe tbody tr th {\n",
       "        vertical-align: top;\n",
       "    }\n",
       "\n",
       "    .dataframe thead th {\n",
       "        text-align: right;\n",
       "    }\n",
       "</style>\n",
       "<table border=\"1\" class=\"dataframe\">\n",
       "  <thead>\n",
       "    <tr style=\"text-align: right;\">\n",
       "      <th></th>\n",
       "      <th>first</th>\n",
       "      <th>last</th>\n",
       "      <th>email</th>\n",
       "    </tr>\n",
       "  </thead>\n",
       "  <tbody>\n",
       "    <tr>\n",
       "      <th>0</th>\n",
       "      <td>Aanya</td>\n",
       "      <td>tripathi</td>\n",
       "      <td>aanya@gmail.com</td>\n",
       "    </tr>\n",
       "    <tr>\n",
       "      <th>1</th>\n",
       "      <td>fatima</td>\n",
       "      <td>kashtvari</td>\n",
       "      <td>f@gmail.com</td>\n",
       "    </tr>\n",
       "    <tr>\n",
       "      <th>2</th>\n",
       "      <td>Rohan</td>\n",
       "      <td>Bali</td>\n",
       "      <td>bali@gmail.com</td>\n",
       "    </tr>\n",
       "    <tr>\n",
       "      <th>3</th>\n",
       "      <td>Aditi</td>\n",
       "      <td>Didi</td>\n",
       "      <td>aditi@gmail.com</td>\n",
       "    </tr>\n",
       "  </tbody>\n",
       "</table>\n",
       "</div>"
      ],
      "text/plain": [
       "    first       last            email\n",
       "0   Aanya   tripathi  aanya@gmail.com\n",
       "1  fatima  kashtvari      f@gmail.com\n",
       "2   Rohan       Bali   bali@gmail.com\n",
       "3   Aditi       Didi  aditi@gmail.com"
      ]
     },
     "execution_count": 69,
     "metadata": {},
     "output_type": "execute_result"
    }
   ],
   "source": [
    "df"
   ]
  },
  {
   "cell_type": "code",
   "execution_count": 70,
   "id": "56bba4e7",
   "metadata": {},
   "outputs": [
    {
     "data": {
      "text/html": [
       "<div>\n",
       "<style scoped>\n",
       "    .dataframe tbody tr th:only-of-type {\n",
       "        vertical-align: middle;\n",
       "    }\n",
       "\n",
       "    .dataframe tbody tr th {\n",
       "        vertical-align: top;\n",
       "    }\n",
       "\n",
       "    .dataframe thead th {\n",
       "        text-align: right;\n",
       "    }\n",
       "</style>\n",
       "<table border=\"1\" class=\"dataframe\">\n",
       "  <thead>\n",
       "    <tr style=\"text-align: right;\">\n",
       "      <th></th>\n",
       "      <th>first</th>\n",
       "      <th>last</th>\n",
       "      <th>email</th>\n",
       "    </tr>\n",
       "  </thead>\n",
       "  <tbody>\n",
       "    <tr>\n",
       "      <th>0</th>\n",
       "      <td>Aanya</td>\n",
       "      <td>tripathi</td>\n",
       "      <td>AANYA@GMAIL.COM</td>\n",
       "    </tr>\n",
       "    <tr>\n",
       "      <th>1</th>\n",
       "      <td>fatima</td>\n",
       "      <td>kashtvari</td>\n",
       "      <td>F@GMAIL.COM</td>\n",
       "    </tr>\n",
       "    <tr>\n",
       "      <th>2</th>\n",
       "      <td>Rohan</td>\n",
       "      <td>Bali</td>\n",
       "      <td>BALI@GMAIL.COM</td>\n",
       "    </tr>\n",
       "    <tr>\n",
       "      <th>3</th>\n",
       "      <td>Aditi</td>\n",
       "      <td>Didi</td>\n",
       "      <td>ADITI@GMAIL.COM</td>\n",
       "    </tr>\n",
       "  </tbody>\n",
       "</table>\n",
       "</div>"
      ],
      "text/plain": [
       "    first       last            email\n",
       "0   Aanya   tripathi  AANYA@GMAIL.COM\n",
       "1  fatima  kashtvari      F@GMAIL.COM\n",
       "2   Rohan       Bali   BALI@GMAIL.COM\n",
       "3   Aditi       Didi  ADITI@GMAIL.COM"
      ]
     },
     "execution_count": 70,
     "metadata": {},
     "output_type": "execute_result"
    }
   ],
   "source": [
    "df['email']= df['email'].apply(update_email)\n",
    "df"
   ]
  },
  {
   "cell_type": "code",
   "execution_count": 71,
   "id": "7ef0a843",
   "metadata": {},
   "outputs": [],
   "source": [
    "df['email']=df['email'].apply(lambda x:x.lower())"
   ]
  },
  {
   "cell_type": "code",
   "execution_count": 72,
   "id": "f5ec6fcd",
   "metadata": {},
   "outputs": [
    {
     "data": {
      "text/html": [
       "<div>\n",
       "<style scoped>\n",
       "    .dataframe tbody tr th:only-of-type {\n",
       "        vertical-align: middle;\n",
       "    }\n",
       "\n",
       "    .dataframe tbody tr th {\n",
       "        vertical-align: top;\n",
       "    }\n",
       "\n",
       "    .dataframe thead th {\n",
       "        text-align: right;\n",
       "    }\n",
       "</style>\n",
       "<table border=\"1\" class=\"dataframe\">\n",
       "  <thead>\n",
       "    <tr style=\"text-align: right;\">\n",
       "      <th></th>\n",
       "      <th>first</th>\n",
       "      <th>last</th>\n",
       "      <th>email</th>\n",
       "    </tr>\n",
       "  </thead>\n",
       "  <tbody>\n",
       "    <tr>\n",
       "      <th>0</th>\n",
       "      <td>Aanya</td>\n",
       "      <td>tripathi</td>\n",
       "      <td>aanya@gmail.com</td>\n",
       "    </tr>\n",
       "    <tr>\n",
       "      <th>1</th>\n",
       "      <td>fatima</td>\n",
       "      <td>kashtvari</td>\n",
       "      <td>f@gmail.com</td>\n",
       "    </tr>\n",
       "    <tr>\n",
       "      <th>2</th>\n",
       "      <td>Rohan</td>\n",
       "      <td>Bali</td>\n",
       "      <td>bali@gmail.com</td>\n",
       "    </tr>\n",
       "    <tr>\n",
       "      <th>3</th>\n",
       "      <td>Aditi</td>\n",
       "      <td>Didi</td>\n",
       "      <td>aditi@gmail.com</td>\n",
       "    </tr>\n",
       "  </tbody>\n",
       "</table>\n",
       "</div>"
      ],
      "text/plain": [
       "    first       last            email\n",
       "0   Aanya   tripathi  aanya@gmail.com\n",
       "1  fatima  kashtvari      f@gmail.com\n",
       "2   Rohan       Bali   bali@gmail.com\n",
       "3   Aditi       Didi  aditi@gmail.com"
      ]
     },
     "execution_count": 72,
     "metadata": {},
     "output_type": "execute_result"
    }
   ],
   "source": [
    "df"
   ]
  },
  {
   "cell_type": "code",
   "execution_count": 73,
   "id": "50c5308d",
   "metadata": {},
   "outputs": [],
   "source": [
    "df['last']=df['last'].map({'tripathi':'Tripathi','kashtvari':'Rs','Bali':'Singh','Didi':'Schoetz'})"
   ]
  },
  {
   "cell_type": "code",
   "execution_count": 74,
   "id": "6fc7c07a",
   "metadata": {},
   "outputs": [
    {
     "data": {
      "text/html": [
       "<div>\n",
       "<style scoped>\n",
       "    .dataframe tbody tr th:only-of-type {\n",
       "        vertical-align: middle;\n",
       "    }\n",
       "\n",
       "    .dataframe tbody tr th {\n",
       "        vertical-align: top;\n",
       "    }\n",
       "\n",
       "    .dataframe thead th {\n",
       "        text-align: right;\n",
       "    }\n",
       "</style>\n",
       "<table border=\"1\" class=\"dataframe\">\n",
       "  <thead>\n",
       "    <tr style=\"text-align: right;\">\n",
       "      <th></th>\n",
       "      <th>first</th>\n",
       "      <th>last</th>\n",
       "      <th>email</th>\n",
       "    </tr>\n",
       "  </thead>\n",
       "  <tbody>\n",
       "    <tr>\n",
       "      <th>0</th>\n",
       "      <td>Aanya</td>\n",
       "      <td>Tripathi</td>\n",
       "      <td>aanya@gmail.com</td>\n",
       "    </tr>\n",
       "    <tr>\n",
       "      <th>1</th>\n",
       "      <td>fatima</td>\n",
       "      <td>Rs</td>\n",
       "      <td>f@gmail.com</td>\n",
       "    </tr>\n",
       "    <tr>\n",
       "      <th>2</th>\n",
       "      <td>Rohan</td>\n",
       "      <td>Singh</td>\n",
       "      <td>bali@gmail.com</td>\n",
       "    </tr>\n",
       "    <tr>\n",
       "      <th>3</th>\n",
       "      <td>Aditi</td>\n",
       "      <td>Schoetz</td>\n",
       "      <td>aditi@gmail.com</td>\n",
       "    </tr>\n",
       "  </tbody>\n",
       "</table>\n",
       "</div>"
      ],
      "text/plain": [
       "    first      last            email\n",
       "0   Aanya  Tripathi  aanya@gmail.com\n",
       "1  fatima        Rs      f@gmail.com\n",
       "2   Rohan     Singh   bali@gmail.com\n",
       "3   Aditi   Schoetz  aditi@gmail.com"
      ]
     },
     "execution_count": 74,
     "metadata": {},
     "output_type": "execute_result"
    }
   ],
   "source": [
    "df"
   ]
  },
  {
   "cell_type": "code",
   "execution_count": 75,
   "id": "0a1132f2",
   "metadata": {},
   "outputs": [],
   "source": [
    "df['first']=df['first'].replace({'fatima':'Fatima'})"
   ]
  },
  {
   "cell_type": "code",
   "execution_count": 76,
   "id": "cac5995c",
   "metadata": {},
   "outputs": [
    {
     "data": {
      "text/html": [
       "<div>\n",
       "<style scoped>\n",
       "    .dataframe tbody tr th:only-of-type {\n",
       "        vertical-align: middle;\n",
       "    }\n",
       "\n",
       "    .dataframe tbody tr th {\n",
       "        vertical-align: top;\n",
       "    }\n",
       "\n",
       "    .dataframe thead th {\n",
       "        text-align: right;\n",
       "    }\n",
       "</style>\n",
       "<table border=\"1\" class=\"dataframe\">\n",
       "  <thead>\n",
       "    <tr style=\"text-align: right;\">\n",
       "      <th></th>\n",
       "      <th>first</th>\n",
       "      <th>last</th>\n",
       "      <th>email</th>\n",
       "    </tr>\n",
       "  </thead>\n",
       "  <tbody>\n",
       "    <tr>\n",
       "      <th>0</th>\n",
       "      <td>Aanya</td>\n",
       "      <td>Tripathi</td>\n",
       "      <td>aanya@gmail.com</td>\n",
       "    </tr>\n",
       "    <tr>\n",
       "      <th>1</th>\n",
       "      <td>Fatima</td>\n",
       "      <td>Rs</td>\n",
       "      <td>f@gmail.com</td>\n",
       "    </tr>\n",
       "    <tr>\n",
       "      <th>2</th>\n",
       "      <td>Rohan</td>\n",
       "      <td>Singh</td>\n",
       "      <td>bali@gmail.com</td>\n",
       "    </tr>\n",
       "    <tr>\n",
       "      <th>3</th>\n",
       "      <td>Aditi</td>\n",
       "      <td>Schoetz</td>\n",
       "      <td>aditi@gmail.com</td>\n",
       "    </tr>\n",
       "  </tbody>\n",
       "</table>\n",
       "</div>"
      ],
      "text/plain": [
       "    first      last            email\n",
       "0   Aanya  Tripathi  aanya@gmail.com\n",
       "1  Fatima        Rs      f@gmail.com\n",
       "2   Rohan     Singh   bali@gmail.com\n",
       "3   Aditi   Schoetz  aditi@gmail.com"
      ]
     },
     "execution_count": 76,
     "metadata": {},
     "output_type": "execute_result"
    }
   ],
   "source": [
    "df"
   ]
  },
  {
   "cell_type": "code",
   "execution_count": 77,
   "id": "3ce81b68",
   "metadata": {},
   "outputs": [
    {
     "data": {
      "text/plain": [
       "Index(['first', 'last', 'email'], dtype='object')"
      ]
     },
     "execution_count": 77,
     "metadata": {},
     "output_type": "execute_result"
    }
   ],
   "source": [
    "df.columns"
   ]
  },
  {
   "cell_type": "code",
   "execution_count": 78,
   "id": "866aa8aa",
   "metadata": {},
   "outputs": [],
   "source": [
    "df['full']=df['first']+' '+df['last']"
   ]
  },
  {
   "cell_type": "code",
   "execution_count": 79,
   "id": "c75469a6",
   "metadata": {},
   "outputs": [],
   "source": [
    "df['number']=df['email'].apply(lambda x:x.upper())"
   ]
  },
  {
   "cell_type": "code",
   "execution_count": 80,
   "id": "337ccd11",
   "metadata": {},
   "outputs": [],
   "source": [
    "def join_name(first,last):\n",
    "    return first+last\n"
   ]
  },
  {
   "cell_type": "code",
   "execution_count": 81,
   "id": "d78c53b4",
   "metadata": {},
   "outputs": [],
   "source": [
    "df.drop(columns=['first','last','number'],inplace=True)"
   ]
  },
  {
   "cell_type": "code",
   "execution_count": 82,
   "id": "74db7006",
   "metadata": {},
   "outputs": [],
   "source": [
    "df['Age']=18"
   ]
  },
  {
   "cell_type": "code",
   "execution_count": 83,
   "id": "1142e3a0",
   "metadata": {},
   "outputs": [
    {
     "data": {
      "text/html": [
       "<div>\n",
       "<style scoped>\n",
       "    .dataframe tbody tr th:only-of-type {\n",
       "        vertical-align: middle;\n",
       "    }\n",
       "\n",
       "    .dataframe tbody tr th {\n",
       "        vertical-align: top;\n",
       "    }\n",
       "\n",
       "    .dataframe thead th {\n",
       "        text-align: right;\n",
       "    }\n",
       "</style>\n",
       "<table border=\"1\" class=\"dataframe\">\n",
       "  <thead>\n",
       "    <tr style=\"text-align: right;\">\n",
       "      <th></th>\n",
       "      <th>email</th>\n",
       "      <th>full</th>\n",
       "      <th>Age</th>\n",
       "    </tr>\n",
       "  </thead>\n",
       "  <tbody>\n",
       "    <tr>\n",
       "      <th>0</th>\n",
       "      <td>aanya@gmail.com</td>\n",
       "      <td>Aanya Tripathi</td>\n",
       "      <td>18</td>\n",
       "    </tr>\n",
       "    <tr>\n",
       "      <th>1</th>\n",
       "      <td>f@gmail.com</td>\n",
       "      <td>Fatima Rs</td>\n",
       "      <td>18</td>\n",
       "    </tr>\n",
       "    <tr>\n",
       "      <th>2</th>\n",
       "      <td>bali@gmail.com</td>\n",
       "      <td>Rohan Singh</td>\n",
       "      <td>18</td>\n",
       "    </tr>\n",
       "    <tr>\n",
       "      <th>3</th>\n",
       "      <td>aditi@gmail.com</td>\n",
       "      <td>Aditi Schoetz</td>\n",
       "      <td>18</td>\n",
       "    </tr>\n",
       "  </tbody>\n",
       "</table>\n",
       "</div>"
      ],
      "text/plain": [
       "             email            full  Age\n",
       "0  aanya@gmail.com  Aanya Tripathi   18\n",
       "1      f@gmail.com       Fatima Rs   18\n",
       "2   bali@gmail.com     Rohan Singh   18\n",
       "3  aditi@gmail.com   Aditi Schoetz   18"
      ]
     },
     "execution_count": 83,
     "metadata": {},
     "output_type": "execute_result"
    }
   ],
   "source": [
    "df"
   ]
  },
  {
   "cell_type": "code",
   "execution_count": 84,
   "id": "0e2bf633",
   "metadata": {},
   "outputs": [],
   "source": [
    "desired_order=['full','email','Age']"
   ]
  },
  {
   "cell_type": "code",
   "execution_count": 85,
   "id": "29455677",
   "metadata": {},
   "outputs": [],
   "source": [
    "df=df[desired_order]"
   ]
  },
  {
   "cell_type": "code",
   "execution_count": 86,
   "id": "32c6089f",
   "metadata": {},
   "outputs": [
    {
     "data": {
      "text/html": [
       "<div>\n",
       "<style scoped>\n",
       "    .dataframe tbody tr th:only-of-type {\n",
       "        vertical-align: middle;\n",
       "    }\n",
       "\n",
       "    .dataframe tbody tr th {\n",
       "        vertical-align: top;\n",
       "    }\n",
       "\n",
       "    .dataframe thead th {\n",
       "        text-align: right;\n",
       "    }\n",
       "</style>\n",
       "<table border=\"1\" class=\"dataframe\">\n",
       "  <thead>\n",
       "    <tr style=\"text-align: right;\">\n",
       "      <th></th>\n",
       "      <th>full</th>\n",
       "      <th>email</th>\n",
       "      <th>Age</th>\n",
       "    </tr>\n",
       "  </thead>\n",
       "  <tbody>\n",
       "    <tr>\n",
       "      <th>0</th>\n",
       "      <td>Aanya Tripathi</td>\n",
       "      <td>aanya@gmail.com</td>\n",
       "      <td>18</td>\n",
       "    </tr>\n",
       "    <tr>\n",
       "      <th>1</th>\n",
       "      <td>Fatima Rs</td>\n",
       "      <td>f@gmail.com</td>\n",
       "      <td>18</td>\n",
       "    </tr>\n",
       "    <tr>\n",
       "      <th>2</th>\n",
       "      <td>Rohan Singh</td>\n",
       "      <td>bali@gmail.com</td>\n",
       "      <td>18</td>\n",
       "    </tr>\n",
       "    <tr>\n",
       "      <th>3</th>\n",
       "      <td>Aditi Schoetz</td>\n",
       "      <td>aditi@gmail.com</td>\n",
       "      <td>18</td>\n",
       "    </tr>\n",
       "  </tbody>\n",
       "</table>\n",
       "</div>"
      ],
      "text/plain": [
       "             full            email  Age\n",
       "0  Aanya Tripathi  aanya@gmail.com   18\n",
       "1       Fatima Rs      f@gmail.com   18\n",
       "2     Rohan Singh   bali@gmail.com   18\n",
       "3   Aditi Schoetz  aditi@gmail.com   18"
      ]
     },
     "execution_count": 86,
     "metadata": {},
     "output_type": "execute_result"
    }
   ],
   "source": [
    "df"
   ]
  },
  {
   "cell_type": "code",
   "execution_count": 87,
   "id": "0148f03e",
   "metadata": {},
   "outputs": [
    {
     "data": {
      "text/plain": [
       "full       Fatima Rs\n",
       "email    f@gmail.com\n",
       "Age               18\n",
       "Name: 1, dtype: object"
      ]
     },
     "execution_count": 87,
     "metadata": {},
     "output_type": "execute_result"
    }
   ],
   "source": [
    "df.loc[1]"
   ]
  },
  {
   "cell_type": "code",
   "execution_count": 88,
   "id": "7de66d73",
   "metadata": {},
   "outputs": [],
   "source": [
    "df.loc[1,'Age']=20"
   ]
  },
  {
   "cell_type": "code",
   "execution_count": 89,
   "id": "318d98d1",
   "metadata": {},
   "outputs": [
    {
     "data": {
      "text/html": [
       "<div>\n",
       "<style scoped>\n",
       "    .dataframe tbody tr th:only-of-type {\n",
       "        vertical-align: middle;\n",
       "    }\n",
       "\n",
       "    .dataframe tbody tr th {\n",
       "        vertical-align: top;\n",
       "    }\n",
       "\n",
       "    .dataframe thead th {\n",
       "        text-align: right;\n",
       "    }\n",
       "</style>\n",
       "<table border=\"1\" class=\"dataframe\">\n",
       "  <thead>\n",
       "    <tr style=\"text-align: right;\">\n",
       "      <th></th>\n",
       "      <th>full</th>\n",
       "      <th>email</th>\n",
       "      <th>Age</th>\n",
       "    </tr>\n",
       "  </thead>\n",
       "  <tbody>\n",
       "    <tr>\n",
       "      <th>0</th>\n",
       "      <td>Aanya Tripathi</td>\n",
       "      <td>aanya@gmail.com</td>\n",
       "      <td>18</td>\n",
       "    </tr>\n",
       "    <tr>\n",
       "      <th>1</th>\n",
       "      <td>Fatima Rs</td>\n",
       "      <td>f@gmail.com</td>\n",
       "      <td>20</td>\n",
       "    </tr>\n",
       "    <tr>\n",
       "      <th>2</th>\n",
       "      <td>Rohan Singh</td>\n",
       "      <td>bali@gmail.com</td>\n",
       "      <td>18</td>\n",
       "    </tr>\n",
       "    <tr>\n",
       "      <th>3</th>\n",
       "      <td>Aditi Schoetz</td>\n",
       "      <td>aditi@gmail.com</td>\n",
       "      <td>18</td>\n",
       "    </tr>\n",
       "  </tbody>\n",
       "</table>\n",
       "</div>"
      ],
      "text/plain": [
       "             full            email  Age\n",
       "0  Aanya Tripathi  aanya@gmail.com   18\n",
       "1       Fatima Rs      f@gmail.com   20\n",
       "2     Rohan Singh   bali@gmail.com   18\n",
       "3   Aditi Schoetz  aditi@gmail.com   18"
      ]
     },
     "execution_count": 89,
     "metadata": {},
     "output_type": "execute_result"
    }
   ],
   "source": [
    "df\n"
   ]
  },
  {
   "cell_type": "markdown",
   "id": "086981da",
   "metadata": {},
   "source": [
    "df.loc[3,'Age']=32"
   ]
  },
  {
   "cell_type": "code",
   "execution_count": 90,
   "id": "e5737b4f",
   "metadata": {},
   "outputs": [],
   "source": [
    "df.loc[3,'Age']=13"
   ]
  },
  {
   "cell_type": "code",
   "execution_count": 91,
   "id": "163bb17f",
   "metadata": {},
   "outputs": [
    {
     "data": {
      "text/html": [
       "<div>\n",
       "<style scoped>\n",
       "    .dataframe tbody tr th:only-of-type {\n",
       "        vertical-align: middle;\n",
       "    }\n",
       "\n",
       "    .dataframe tbody tr th {\n",
       "        vertical-align: top;\n",
       "    }\n",
       "\n",
       "    .dataframe thead th {\n",
       "        text-align: right;\n",
       "    }\n",
       "</style>\n",
       "<table border=\"1\" class=\"dataframe\">\n",
       "  <thead>\n",
       "    <tr style=\"text-align: right;\">\n",
       "      <th></th>\n",
       "      <th>full</th>\n",
       "      <th>email</th>\n",
       "      <th>Age</th>\n",
       "    </tr>\n",
       "  </thead>\n",
       "  <tbody>\n",
       "    <tr>\n",
       "      <th>0</th>\n",
       "      <td>Aanya Tripathi</td>\n",
       "      <td>aanya@gmail.com</td>\n",
       "      <td>18</td>\n",
       "    </tr>\n",
       "    <tr>\n",
       "      <th>1</th>\n",
       "      <td>Fatima Rs</td>\n",
       "      <td>f@gmail.com</td>\n",
       "      <td>20</td>\n",
       "    </tr>\n",
       "    <tr>\n",
       "      <th>2</th>\n",
       "      <td>Rohan Singh</td>\n",
       "      <td>bali@gmail.com</td>\n",
       "      <td>18</td>\n",
       "    </tr>\n",
       "    <tr>\n",
       "      <th>3</th>\n",
       "      <td>Aditi Schoetz</td>\n",
       "      <td>aditi@gmail.com</td>\n",
       "      <td>13</td>\n",
       "    </tr>\n",
       "  </tbody>\n",
       "</table>\n",
       "</div>"
      ],
      "text/plain": [
       "             full            email  Age\n",
       "0  Aanya Tripathi  aanya@gmail.com   18\n",
       "1       Fatima Rs      f@gmail.com   20\n",
       "2     Rohan Singh   bali@gmail.com   18\n",
       "3   Aditi Schoetz  aditi@gmail.com   13"
      ]
     },
     "execution_count": 91,
     "metadata": {},
     "output_type": "execute_result"
    }
   ],
   "source": [
    "df"
   ]
  },
  {
   "cell_type": "code",
   "execution_count": 92,
   "id": "338ae869",
   "metadata": {},
   "outputs": [],
   "source": [
    "def check_age(age):\n",
    "    if int(age)>=18:\n",
    "        return'Yes'\n",
    "    else:\n",
    "        return'No'"
   ]
  },
  {
   "cell_type": "code",
   "execution_count": 93,
   "id": "ab09a733",
   "metadata": {},
   "outputs": [],
   "source": [
    "df['Adult']= df['Age'].apply(check_age)\n"
   ]
  },
  {
   "cell_type": "code",
   "execution_count": 94,
   "id": "e725b232",
   "metadata": {},
   "outputs": [
    {
     "data": {
      "text/html": [
       "<div>\n",
       "<style scoped>\n",
       "    .dataframe tbody tr th:only-of-type {\n",
       "        vertical-align: middle;\n",
       "    }\n",
       "\n",
       "    .dataframe tbody tr th {\n",
       "        vertical-align: top;\n",
       "    }\n",
       "\n",
       "    .dataframe thead th {\n",
       "        text-align: right;\n",
       "    }\n",
       "</style>\n",
       "<table border=\"1\" class=\"dataframe\">\n",
       "  <thead>\n",
       "    <tr style=\"text-align: right;\">\n",
       "      <th></th>\n",
       "      <th>full</th>\n",
       "      <th>email</th>\n",
       "      <th>Age</th>\n",
       "      <th>Adult</th>\n",
       "    </tr>\n",
       "  </thead>\n",
       "  <tbody>\n",
       "    <tr>\n",
       "      <th>0</th>\n",
       "      <td>Aanya Tripathi</td>\n",
       "      <td>aanya@gmail.com</td>\n",
       "      <td>18</td>\n",
       "      <td>Yes</td>\n",
       "    </tr>\n",
       "    <tr>\n",
       "      <th>1</th>\n",
       "      <td>Fatima Rs</td>\n",
       "      <td>f@gmail.com</td>\n",
       "      <td>20</td>\n",
       "      <td>Yes</td>\n",
       "    </tr>\n",
       "    <tr>\n",
       "      <th>2</th>\n",
       "      <td>Rohan Singh</td>\n",
       "      <td>bali@gmail.com</td>\n",
       "      <td>18</td>\n",
       "      <td>Yes</td>\n",
       "    </tr>\n",
       "    <tr>\n",
       "      <th>3</th>\n",
       "      <td>Aditi Schoetz</td>\n",
       "      <td>aditi@gmail.com</td>\n",
       "      <td>13</td>\n",
       "      <td>No</td>\n",
       "    </tr>\n",
       "  </tbody>\n",
       "</table>\n",
       "</div>"
      ],
      "text/plain": [
       "             full            email  Age Adult\n",
       "0  Aanya Tripathi  aanya@gmail.com   18   Yes\n",
       "1       Fatima Rs      f@gmail.com   20   Yes\n",
       "2     Rohan Singh   bali@gmail.com   18   Yes\n",
       "3   Aditi Schoetz  aditi@gmail.com   13    No"
      ]
     },
     "execution_count": 94,
     "metadata": {},
     "output_type": "execute_result"
    }
   ],
   "source": [
    "df"
   ]
  },
  {
   "cell_type": "code",
   "execution_count": 95,
   "id": "5a32ac3b",
   "metadata": {},
   "outputs": [
    {
     "data": {
      "text/plain": [
       "0    [Aanya, Tripathi]\n",
       "1         [Fatima, Rs]\n",
       "2       [Rohan, Singh]\n",
       "3     [Aditi, Schoetz]\n",
       "Name: full, dtype: object"
      ]
     },
     "execution_count": 95,
     "metadata": {},
     "output_type": "execute_result"
    }
   ],
   "source": [
    "df['full'].str.split(' ')"
   ]
  },
  {
   "cell_type": "code",
   "execution_count": 96,
   "id": "642777d1",
   "metadata": {},
   "outputs": [
    {
     "data": {
      "text/html": [
       "<div>\n",
       "<style scoped>\n",
       "    .dataframe tbody tr th:only-of-type {\n",
       "        vertical-align: middle;\n",
       "    }\n",
       "\n",
       "    .dataframe tbody tr th {\n",
       "        vertical-align: top;\n",
       "    }\n",
       "\n",
       "    .dataframe thead th {\n",
       "        text-align: right;\n",
       "    }\n",
       "</style>\n",
       "<table border=\"1\" class=\"dataframe\">\n",
       "  <thead>\n",
       "    <tr style=\"text-align: right;\">\n",
       "      <th></th>\n",
       "      <th>0</th>\n",
       "      <th>1</th>\n",
       "    </tr>\n",
       "  </thead>\n",
       "  <tbody>\n",
       "    <tr>\n",
       "      <th>0</th>\n",
       "      <td>Aanya</td>\n",
       "      <td>Tripathi</td>\n",
       "    </tr>\n",
       "    <tr>\n",
       "      <th>1</th>\n",
       "      <td>Fatima</td>\n",
       "      <td>Rs</td>\n",
       "    </tr>\n",
       "    <tr>\n",
       "      <th>2</th>\n",
       "      <td>Rohan</td>\n",
       "      <td>Singh</td>\n",
       "    </tr>\n",
       "    <tr>\n",
       "      <th>3</th>\n",
       "      <td>Aditi</td>\n",
       "      <td>Schoetz</td>\n",
       "    </tr>\n",
       "  </tbody>\n",
       "</table>\n",
       "</div>"
      ],
      "text/plain": [
       "        0         1\n",
       "0   Aanya  Tripathi\n",
       "1  Fatima        Rs\n",
       "2   Rohan     Singh\n",
       "3   Aditi   Schoetz"
      ]
     },
     "execution_count": 96,
     "metadata": {},
     "output_type": "execute_result"
    }
   ],
   "source": [
    "df['full'].str.split(' ',expand=True)"
   ]
  },
  {
   "cell_type": "code",
   "execution_count": 97,
   "id": "7d528b17",
   "metadata": {},
   "outputs": [],
   "source": [
    "df[['first','last']]=df['full'].str.split(' ',expand=True)"
   ]
  },
  {
   "cell_type": "code",
   "execution_count": 98,
   "id": "05d1f492",
   "metadata": {},
   "outputs": [
    {
     "data": {
      "text/html": [
       "<div>\n",
       "<style scoped>\n",
       "    .dataframe tbody tr th:only-of-type {\n",
       "        vertical-align: middle;\n",
       "    }\n",
       "\n",
       "    .dataframe tbody tr th {\n",
       "        vertical-align: top;\n",
       "    }\n",
       "\n",
       "    .dataframe thead th {\n",
       "        text-align: right;\n",
       "    }\n",
       "</style>\n",
       "<table border=\"1\" class=\"dataframe\">\n",
       "  <thead>\n",
       "    <tr style=\"text-align: right;\">\n",
       "      <th></th>\n",
       "      <th>full</th>\n",
       "      <th>email</th>\n",
       "      <th>Age</th>\n",
       "      <th>Adult</th>\n",
       "      <th>first</th>\n",
       "      <th>last</th>\n",
       "    </tr>\n",
       "  </thead>\n",
       "  <tbody>\n",
       "    <tr>\n",
       "      <th>0</th>\n",
       "      <td>Aanya Tripathi</td>\n",
       "      <td>aanya@gmail.com</td>\n",
       "      <td>18</td>\n",
       "      <td>Yes</td>\n",
       "      <td>Aanya</td>\n",
       "      <td>Tripathi</td>\n",
       "    </tr>\n",
       "    <tr>\n",
       "      <th>1</th>\n",
       "      <td>Fatima Rs</td>\n",
       "      <td>f@gmail.com</td>\n",
       "      <td>20</td>\n",
       "      <td>Yes</td>\n",
       "      <td>Fatima</td>\n",
       "      <td>Rs</td>\n",
       "    </tr>\n",
       "    <tr>\n",
       "      <th>2</th>\n",
       "      <td>Rohan Singh</td>\n",
       "      <td>bali@gmail.com</td>\n",
       "      <td>18</td>\n",
       "      <td>Yes</td>\n",
       "      <td>Rohan</td>\n",
       "      <td>Singh</td>\n",
       "    </tr>\n",
       "    <tr>\n",
       "      <th>3</th>\n",
       "      <td>Aditi Schoetz</td>\n",
       "      <td>aditi@gmail.com</td>\n",
       "      <td>13</td>\n",
       "      <td>No</td>\n",
       "      <td>Aditi</td>\n",
       "      <td>Schoetz</td>\n",
       "    </tr>\n",
       "  </tbody>\n",
       "</table>\n",
       "</div>"
      ],
      "text/plain": [
       "             full            email  Age Adult   first      last\n",
       "0  Aanya Tripathi  aanya@gmail.com   18   Yes   Aanya  Tripathi\n",
       "1       Fatima Rs      f@gmail.com   20   Yes  Fatima        Rs\n",
       "2     Rohan Singh   bali@gmail.com   18   Yes   Rohan     Singh\n",
       "3   Aditi Schoetz  aditi@gmail.com   13    No   Aditi   Schoetz"
      ]
     },
     "execution_count": 98,
     "metadata": {},
     "output_type": "execute_result"
    }
   ],
   "source": [
    "df"
   ]
  },
  {
   "cell_type": "code",
   "execution_count": 99,
   "id": "a1f97597",
   "metadata": {},
   "outputs": [
    {
     "data": {
      "text/html": [
       "<div>\n",
       "<style scoped>\n",
       "    .dataframe tbody tr th:only-of-type {\n",
       "        vertical-align: middle;\n",
       "    }\n",
       "\n",
       "    .dataframe tbody tr th {\n",
       "        vertical-align: top;\n",
       "    }\n",
       "\n",
       "    .dataframe thead th {\n",
       "        text-align: right;\n",
       "    }\n",
       "</style>\n",
       "<table border=\"1\" class=\"dataframe\">\n",
       "  <thead>\n",
       "    <tr style=\"text-align: right;\">\n",
       "      <th></th>\n",
       "      <th>email</th>\n",
       "      <th>Age</th>\n",
       "      <th>Adult</th>\n",
       "      <th>first</th>\n",
       "      <th>last</th>\n",
       "    </tr>\n",
       "  </thead>\n",
       "  <tbody>\n",
       "    <tr>\n",
       "      <th>0</th>\n",
       "      <td>aanya@gmail.com</td>\n",
       "      <td>18</td>\n",
       "      <td>Yes</td>\n",
       "      <td>Aanya</td>\n",
       "      <td>Tripathi</td>\n",
       "    </tr>\n",
       "    <tr>\n",
       "      <th>1</th>\n",
       "      <td>f@gmail.com</td>\n",
       "      <td>20</td>\n",
       "      <td>Yes</td>\n",
       "      <td>Fatima</td>\n",
       "      <td>Rs</td>\n",
       "    </tr>\n",
       "    <tr>\n",
       "      <th>2</th>\n",
       "      <td>bali@gmail.com</td>\n",
       "      <td>18</td>\n",
       "      <td>Yes</td>\n",
       "      <td>Rohan</td>\n",
       "      <td>Singh</td>\n",
       "    </tr>\n",
       "    <tr>\n",
       "      <th>3</th>\n",
       "      <td>aditi@gmail.com</td>\n",
       "      <td>13</td>\n",
       "      <td>No</td>\n",
       "      <td>Aditi</td>\n",
       "      <td>Schoetz</td>\n",
       "    </tr>\n",
       "  </tbody>\n",
       "</table>\n",
       "</div>"
      ],
      "text/plain": [
       "             email  Age Adult   first      last\n",
       "0  aanya@gmail.com   18   Yes   Aanya  Tripathi\n",
       "1      f@gmail.com   20   Yes  Fatima        Rs\n",
       "2   bali@gmail.com   18   Yes   Rohan     Singh\n",
       "3  aditi@gmail.com   13    No   Aditi   Schoetz"
      ]
     },
     "execution_count": 99,
     "metadata": {},
     "output_type": "execute_result"
    }
   ],
   "source": [
    "df.drop(columns=['full'])"
   ]
  },
  {
   "cell_type": "code",
   "execution_count": 100,
   "id": "6cd6e22a",
   "metadata": {},
   "outputs": [],
   "source": [
    "desired_order=['first','last','Age','Adult','email']"
   ]
  },
  {
   "cell_type": "code",
   "execution_count": 101,
   "id": "060876a0",
   "metadata": {},
   "outputs": [],
   "source": [
    "df=df[desired_order]"
   ]
  },
  {
   "cell_type": "code",
   "execution_count": 102,
   "id": "6bb27797",
   "metadata": {},
   "outputs": [
    {
     "data": {
      "text/html": [
       "<div>\n",
       "<style scoped>\n",
       "    .dataframe tbody tr th:only-of-type {\n",
       "        vertical-align: middle;\n",
       "    }\n",
       "\n",
       "    .dataframe tbody tr th {\n",
       "        vertical-align: top;\n",
       "    }\n",
       "\n",
       "    .dataframe thead th {\n",
       "        text-align: right;\n",
       "    }\n",
       "</style>\n",
       "<table border=\"1\" class=\"dataframe\">\n",
       "  <thead>\n",
       "    <tr style=\"text-align: right;\">\n",
       "      <th></th>\n",
       "      <th>first</th>\n",
       "      <th>last</th>\n",
       "      <th>Age</th>\n",
       "      <th>Adult</th>\n",
       "      <th>email</th>\n",
       "    </tr>\n",
       "  </thead>\n",
       "  <tbody>\n",
       "    <tr>\n",
       "      <th>0</th>\n",
       "      <td>Aanya</td>\n",
       "      <td>Tripathi</td>\n",
       "      <td>18</td>\n",
       "      <td>Yes</td>\n",
       "      <td>aanya@gmail.com</td>\n",
       "    </tr>\n",
       "    <tr>\n",
       "      <th>1</th>\n",
       "      <td>Fatima</td>\n",
       "      <td>Rs</td>\n",
       "      <td>20</td>\n",
       "      <td>Yes</td>\n",
       "      <td>f@gmail.com</td>\n",
       "    </tr>\n",
       "    <tr>\n",
       "      <th>2</th>\n",
       "      <td>Rohan</td>\n",
       "      <td>Singh</td>\n",
       "      <td>18</td>\n",
       "      <td>Yes</td>\n",
       "      <td>bali@gmail.com</td>\n",
       "    </tr>\n",
       "    <tr>\n",
       "      <th>3</th>\n",
       "      <td>Aditi</td>\n",
       "      <td>Schoetz</td>\n",
       "      <td>13</td>\n",
       "      <td>No</td>\n",
       "      <td>aditi@gmail.com</td>\n",
       "    </tr>\n",
       "  </tbody>\n",
       "</table>\n",
       "</div>"
      ],
      "text/plain": [
       "    first      last  Age Adult            email\n",
       "0   Aanya  Tripathi   18   Yes  aanya@gmail.com\n",
       "1  Fatima        Rs   20   Yes      f@gmail.com\n",
       "2   Rohan     Singh   18   Yes   bali@gmail.com\n",
       "3   Aditi   Schoetz   13    No  aditi@gmail.com"
      ]
     },
     "execution_count": 102,
     "metadata": {},
     "output_type": "execute_result"
    }
   ],
   "source": [
    "df"
   ]
  },
  {
   "cell_type": "code",
   "execution_count": 103,
   "id": "491db70d",
   "metadata": {
    "scrolled": true
   },
   "outputs": [
    {
     "data": {
      "text/html": [
       "<div>\n",
       "<style scoped>\n",
       "    .dataframe tbody tr th:only-of-type {\n",
       "        vertical-align: middle;\n",
       "    }\n",
       "\n",
       "    .dataframe tbody tr th {\n",
       "        vertical-align: top;\n",
       "    }\n",
       "\n",
       "    .dataframe thead th {\n",
       "        text-align: right;\n",
       "    }\n",
       "</style>\n",
       "<table border=\"1\" class=\"dataframe\">\n",
       "  <thead>\n",
       "    <tr style=\"text-align: right;\">\n",
       "      <th></th>\n",
       "      <th>first</th>\n",
       "      <th>last</th>\n",
       "      <th>Age</th>\n",
       "      <th>Adult</th>\n",
       "      <th>email</th>\n",
       "    </tr>\n",
       "  </thead>\n",
       "  <tbody>\n",
       "    <tr>\n",
       "      <th>0</th>\n",
       "      <td>Aanya</td>\n",
       "      <td>Tripathi</td>\n",
       "      <td>18.0</td>\n",
       "      <td>Yes</td>\n",
       "      <td>aanya@gmail.com</td>\n",
       "    </tr>\n",
       "    <tr>\n",
       "      <th>1</th>\n",
       "      <td>Fatima</td>\n",
       "      <td>Rs</td>\n",
       "      <td>20.0</td>\n",
       "      <td>Yes</td>\n",
       "      <td>f@gmail.com</td>\n",
       "    </tr>\n",
       "    <tr>\n",
       "      <th>2</th>\n",
       "      <td>Rohan</td>\n",
       "      <td>Singh</td>\n",
       "      <td>18.0</td>\n",
       "      <td>Yes</td>\n",
       "      <td>bali@gmail.com</td>\n",
       "    </tr>\n",
       "    <tr>\n",
       "      <th>3</th>\n",
       "      <td>Aditi</td>\n",
       "      <td>Schoetz</td>\n",
       "      <td>13.0</td>\n",
       "      <td>No</td>\n",
       "      <td>aditi@gmail.com</td>\n",
       "    </tr>\n",
       "    <tr>\n",
       "      <th>4</th>\n",
       "      <td>Keya</td>\n",
       "      <td>NaN</td>\n",
       "      <td>NaN</td>\n",
       "      <td>NaN</td>\n",
       "      <td>NaN</td>\n",
       "    </tr>\n",
       "  </tbody>\n",
       "</table>\n",
       "</div>"
      ],
      "text/plain": [
       "    first      last   Age Adult            email\n",
       "0   Aanya  Tripathi  18.0   Yes  aanya@gmail.com\n",
       "1  Fatima        Rs  20.0   Yes      f@gmail.com\n",
       "2   Rohan     Singh  18.0   Yes   bali@gmail.com\n",
       "3   Aditi   Schoetz  13.0    No  aditi@gmail.com\n",
       "4    Keya       NaN   NaN   NaN              NaN"
      ]
     },
     "execution_count": 103,
     "metadata": {},
     "output_type": "execute_result"
    }
   ],
   "source": [
    "df.append({'first':'Keya'}, ignore_index=True)"
   ]
  },
  {
   "cell_type": "code",
   "execution_count": 135,
   "id": "dac5a719",
   "metadata": {},
   "outputs": [],
   "source": [
    "dict2={'first':['Lion','King','Shaun'],\n",
    "     'last':['Roar','Khan','Mendes'], \n",
    "     'Age':[12,5,21],\n",
    "     'email':['sds@g.com','kk@gmail.com','mendes@gmail.com']}"
   ]
  },
  {
   "cell_type": "code",
   "execution_count": 136,
   "id": "78a36182",
   "metadata": {
    "scrolled": true
   },
   "outputs": [
    {
     "data": {
      "text/html": [
       "<div>\n",
       "<style scoped>\n",
       "    .dataframe tbody tr th:only-of-type {\n",
       "        vertical-align: middle;\n",
       "    }\n",
       "\n",
       "    .dataframe tbody tr th {\n",
       "        vertical-align: top;\n",
       "    }\n",
       "\n",
       "    .dataframe thead th {\n",
       "        text-align: right;\n",
       "    }\n",
       "</style>\n",
       "<table border=\"1\" class=\"dataframe\">\n",
       "  <thead>\n",
       "    <tr style=\"text-align: right;\">\n",
       "      <th></th>\n",
       "      <th>first</th>\n",
       "      <th>last</th>\n",
       "      <th>Age</th>\n",
       "      <th>email</th>\n",
       "    </tr>\n",
       "  </thead>\n",
       "  <tbody>\n",
       "    <tr>\n",
       "      <th>0</th>\n",
       "      <td>Lion</td>\n",
       "      <td>Roar</td>\n",
       "      <td>12</td>\n",
       "      <td>sds@g.com</td>\n",
       "    </tr>\n",
       "    <tr>\n",
       "      <th>1</th>\n",
       "      <td>King</td>\n",
       "      <td>Khan</td>\n",
       "      <td>5</td>\n",
       "      <td>kk@gmail.com</td>\n",
       "    </tr>\n",
       "    <tr>\n",
       "      <th>2</th>\n",
       "      <td>Shaun</td>\n",
       "      <td>Mendes</td>\n",
       "      <td>21</td>\n",
       "      <td>mendes@gmail.com</td>\n",
       "    </tr>\n",
       "  </tbody>\n",
       "</table>\n",
       "</div>"
      ],
      "text/plain": [
       "   first    last  Age             email\n",
       "0   Lion    Roar   12         sds@g.com\n",
       "1   King    Khan    5      kk@gmail.com\n",
       "2  Shaun  Mendes   21  mendes@gmail.com"
      ]
     },
     "execution_count": 136,
     "metadata": {},
     "output_type": "execute_result"
    }
   ],
   "source": [
    "df2=pd.DataFrame(dict2)\n",
    "df2"
   ]
  },
  {
   "cell_type": "code",
   "execution_count": 137,
   "id": "e6ae9f8f",
   "metadata": {},
   "outputs": [],
   "source": [
    "df2['Adult']=df2['Age'].apply(check_age)\n"
   ]
  },
  {
   "cell_type": "code",
   "execution_count": 138,
   "id": "1cb823dd",
   "metadata": {},
   "outputs": [
    {
     "data": {
      "text/html": [
       "<div>\n",
       "<style scoped>\n",
       "    .dataframe tbody tr th:only-of-type {\n",
       "        vertical-align: middle;\n",
       "    }\n",
       "\n",
       "    .dataframe tbody tr th {\n",
       "        vertical-align: top;\n",
       "    }\n",
       "\n",
       "    .dataframe thead th {\n",
       "        text-align: right;\n",
       "    }\n",
       "</style>\n",
       "<table border=\"1\" class=\"dataframe\">\n",
       "  <thead>\n",
       "    <tr style=\"text-align: right;\">\n",
       "      <th></th>\n",
       "      <th>first</th>\n",
       "      <th>last</th>\n",
       "      <th>Age</th>\n",
       "      <th>email</th>\n",
       "      <th>Adult</th>\n",
       "    </tr>\n",
       "  </thead>\n",
       "  <tbody>\n",
       "    <tr>\n",
       "      <th>0</th>\n",
       "      <td>Lion</td>\n",
       "      <td>Roar</td>\n",
       "      <td>12</td>\n",
       "      <td>sds@g.com</td>\n",
       "      <td>No</td>\n",
       "    </tr>\n",
       "    <tr>\n",
       "      <th>1</th>\n",
       "      <td>King</td>\n",
       "      <td>Khan</td>\n",
       "      <td>5</td>\n",
       "      <td>kk@gmail.com</td>\n",
       "      <td>No</td>\n",
       "    </tr>\n",
       "    <tr>\n",
       "      <th>2</th>\n",
       "      <td>Shaun</td>\n",
       "      <td>Mendes</td>\n",
       "      <td>21</td>\n",
       "      <td>mendes@gmail.com</td>\n",
       "      <td>Yes</td>\n",
       "    </tr>\n",
       "  </tbody>\n",
       "</table>\n",
       "</div>"
      ],
      "text/plain": [
       "   first    last  Age             email Adult\n",
       "0   Lion    Roar   12         sds@g.com    No\n",
       "1   King    Khan    5      kk@gmail.com    No\n",
       "2  Shaun  Mendes   21  mendes@gmail.com   Yes"
      ]
     },
     "execution_count": 138,
     "metadata": {},
     "output_type": "execute_result"
    }
   ],
   "source": [
    "df2"
   ]
  },
  {
   "cell_type": "code",
   "execution_count": 139,
   "id": "ebc21695",
   "metadata": {},
   "outputs": [],
   "source": [
    "df=df.append(df2, ignore_index=True)"
   ]
  },
  {
   "cell_type": "code",
   "execution_count": 140,
   "id": "d4a204f5",
   "metadata": {},
   "outputs": [
    {
     "data": {
      "text/html": [
       "<div>\n",
       "<style scoped>\n",
       "    .dataframe tbody tr th:only-of-type {\n",
       "        vertical-align: middle;\n",
       "    }\n",
       "\n",
       "    .dataframe tbody tr th {\n",
       "        vertical-align: top;\n",
       "    }\n",
       "\n",
       "    .dataframe thead th {\n",
       "        text-align: right;\n",
       "    }\n",
       "</style>\n",
       "<table border=\"1\" class=\"dataframe\">\n",
       "  <thead>\n",
       "    <tr style=\"text-align: right;\">\n",
       "      <th></th>\n",
       "      <th>first</th>\n",
       "      <th>last</th>\n",
       "      <th>Age</th>\n",
       "      <th>Adult</th>\n",
       "      <th>email</th>\n",
       "    </tr>\n",
       "  </thead>\n",
       "  <tbody>\n",
       "    <tr>\n",
       "      <th>0</th>\n",
       "      <td>Aanya</td>\n",
       "      <td>Tripathi</td>\n",
       "      <td>18</td>\n",
       "      <td>Yes</td>\n",
       "      <td>aanya@gmail.com</td>\n",
       "    </tr>\n",
       "    <tr>\n",
       "      <th>1</th>\n",
       "      <td>Fatima</td>\n",
       "      <td>Rs</td>\n",
       "      <td>20</td>\n",
       "      <td>Yes</td>\n",
       "      <td>f@gmail.com</td>\n",
       "    </tr>\n",
       "    <tr>\n",
       "      <th>2</th>\n",
       "      <td>Rohan</td>\n",
       "      <td>Singh</td>\n",
       "      <td>18</td>\n",
       "      <td>Yes</td>\n",
       "      <td>bali@gmail.com</td>\n",
       "    </tr>\n",
       "    <tr>\n",
       "      <th>3</th>\n",
       "      <td>Aditi</td>\n",
       "      <td>Schoetz</td>\n",
       "      <td>13</td>\n",
       "      <td>No</td>\n",
       "      <td>aditi@gmail.com</td>\n",
       "    </tr>\n",
       "    <tr>\n",
       "      <th>4</th>\n",
       "      <td>Lion</td>\n",
       "      <td>Roar</td>\n",
       "      <td>12</td>\n",
       "      <td>No</td>\n",
       "      <td>sds@g.com</td>\n",
       "    </tr>\n",
       "    <tr>\n",
       "      <th>5</th>\n",
       "      <td>Shaun</td>\n",
       "      <td>Mendes</td>\n",
       "      <td>21</td>\n",
       "      <td>Yes</td>\n",
       "      <td>mendes@gmail.com</td>\n",
       "    </tr>\n",
       "    <tr>\n",
       "      <th>6</th>\n",
       "      <td>Lion</td>\n",
       "      <td>Roar</td>\n",
       "      <td>12</td>\n",
       "      <td>No</td>\n",
       "      <td>sds@g.com</td>\n",
       "    </tr>\n",
       "    <tr>\n",
       "      <th>7</th>\n",
       "      <td>King</td>\n",
       "      <td>Khan</td>\n",
       "      <td>5</td>\n",
       "      <td>No</td>\n",
       "      <td>kk@gmail.com</td>\n",
       "    </tr>\n",
       "    <tr>\n",
       "      <th>8</th>\n",
       "      <td>Shaun</td>\n",
       "      <td>Mendes</td>\n",
       "      <td>21</td>\n",
       "      <td>Yes</td>\n",
       "      <td>mendes@gmail.com</td>\n",
       "    </tr>\n",
       "  </tbody>\n",
       "</table>\n",
       "</div>"
      ],
      "text/plain": [
       "    first      last Age Adult             email\n",
       "0   Aanya  Tripathi  18   Yes   aanya@gmail.com\n",
       "1  Fatima        Rs  20   Yes       f@gmail.com\n",
       "2   Rohan     Singh  18   Yes    bali@gmail.com\n",
       "3   Aditi   Schoetz  13    No   aditi@gmail.com\n",
       "4    Lion      Roar  12    No         sds@g.com\n",
       "5   Shaun    Mendes  21   Yes  mendes@gmail.com\n",
       "6    Lion      Roar  12    No         sds@g.com\n",
       "7    King      Khan   5    No      kk@gmail.com\n",
       "8   Shaun    Mendes  21   Yes  mendes@gmail.com"
      ]
     },
     "execution_count": 140,
     "metadata": {},
     "output_type": "execute_result"
    }
   ],
   "source": [
    "df"
   ]
  },
  {
   "cell_type": "code",
   "execution_count": 141,
   "id": "d5d658c1",
   "metadata": {},
   "outputs": [
    {
     "data": {
      "text/html": [
       "<div>\n",
       "<style scoped>\n",
       "    .dataframe tbody tr th:only-of-type {\n",
       "        vertical-align: middle;\n",
       "    }\n",
       "\n",
       "    .dataframe tbody tr th {\n",
       "        vertical-align: top;\n",
       "    }\n",
       "\n",
       "    .dataframe thead th {\n",
       "        text-align: right;\n",
       "    }\n",
       "</style>\n",
       "<table border=\"1\" class=\"dataframe\">\n",
       "  <thead>\n",
       "    <tr style=\"text-align: right;\">\n",
       "      <th></th>\n",
       "      <th>first</th>\n",
       "      <th>last</th>\n",
       "      <th>Age</th>\n",
       "      <th>Adult</th>\n",
       "      <th>email</th>\n",
       "    </tr>\n",
       "  </thead>\n",
       "  <tbody>\n",
       "    <tr>\n",
       "      <th>0</th>\n",
       "      <td>Aanya</td>\n",
       "      <td>Tripathi</td>\n",
       "      <td>18</td>\n",
       "      <td>Yes</td>\n",
       "      <td>aanya@gmail.com</td>\n",
       "    </tr>\n",
       "    <tr>\n",
       "      <th>1</th>\n",
       "      <td>Fatima</td>\n",
       "      <td>Rs</td>\n",
       "      <td>20</td>\n",
       "      <td>Yes</td>\n",
       "      <td>f@gmail.com</td>\n",
       "    </tr>\n",
       "    <tr>\n",
       "      <th>2</th>\n",
       "      <td>Rohan</td>\n",
       "      <td>Singh</td>\n",
       "      <td>18</td>\n",
       "      <td>Yes</td>\n",
       "      <td>bali@gmail.com</td>\n",
       "    </tr>\n",
       "    <tr>\n",
       "      <th>3</th>\n",
       "      <td>Aditi</td>\n",
       "      <td>Schoetz</td>\n",
       "      <td>13</td>\n",
       "      <td>No</td>\n",
       "      <td>aditi@gmail.com</td>\n",
       "    </tr>\n",
       "    <tr>\n",
       "      <th>4</th>\n",
       "      <td>Lion</td>\n",
       "      <td>Roar</td>\n",
       "      <td>12</td>\n",
       "      <td>No</td>\n",
       "      <td>sds@g.com</td>\n",
       "    </tr>\n",
       "    <tr>\n",
       "      <th>5</th>\n",
       "      <td>Shaun</td>\n",
       "      <td>Mendes</td>\n",
       "      <td>21</td>\n",
       "      <td>Yes</td>\n",
       "      <td>mendes@gmail.com</td>\n",
       "    </tr>\n",
       "    <tr>\n",
       "      <th>7</th>\n",
       "      <td>King</td>\n",
       "      <td>Khan</td>\n",
       "      <td>5</td>\n",
       "      <td>No</td>\n",
       "      <td>kk@gmail.com</td>\n",
       "    </tr>\n",
       "    <tr>\n",
       "      <th>8</th>\n",
       "      <td>Shaun</td>\n",
       "      <td>Mendes</td>\n",
       "      <td>21</td>\n",
       "      <td>Yes</td>\n",
       "      <td>mendes@gmail.com</td>\n",
       "    </tr>\n",
       "  </tbody>\n",
       "</table>\n",
       "</div>"
      ],
      "text/plain": [
       "    first      last Age Adult             email\n",
       "0   Aanya  Tripathi  18   Yes   aanya@gmail.com\n",
       "1  Fatima        Rs  20   Yes       f@gmail.com\n",
       "2   Rohan     Singh  18   Yes    bali@gmail.com\n",
       "3   Aditi   Schoetz  13    No   aditi@gmail.com\n",
       "4    Lion      Roar  12    No         sds@g.com\n",
       "5   Shaun    Mendes  21   Yes  mendes@gmail.com\n",
       "7    King      Khan   5    No      kk@gmail.com\n",
       "8   Shaun    Mendes  21   Yes  mendes@gmail.com"
      ]
     },
     "execution_count": 141,
     "metadata": {},
     "output_type": "execute_result"
    }
   ],
   "source": [
    "df.drop(index=6)"
   ]
  },
  {
   "cell_type": "code",
   "execution_count": 142,
   "id": "7798d5eb",
   "metadata": {},
   "outputs": [
    {
     "data": {
      "text/html": [
       "<div>\n",
       "<style scoped>\n",
       "    .dataframe tbody tr th:only-of-type {\n",
       "        vertical-align: middle;\n",
       "    }\n",
       "\n",
       "    .dataframe tbody tr th {\n",
       "        vertical-align: top;\n",
       "    }\n",
       "\n",
       "    .dataframe thead th {\n",
       "        text-align: right;\n",
       "    }\n",
       "</style>\n",
       "<table border=\"1\" class=\"dataframe\">\n",
       "  <thead>\n",
       "    <tr style=\"text-align: right;\">\n",
       "      <th></th>\n",
       "      <th>first</th>\n",
       "      <th>last</th>\n",
       "      <th>Age</th>\n",
       "      <th>Adult</th>\n",
       "      <th>email</th>\n",
       "    </tr>\n",
       "  </thead>\n",
       "  <tbody>\n",
       "    <tr>\n",
       "      <th>0</th>\n",
       "      <td>Aanya</td>\n",
       "      <td>Tripathi</td>\n",
       "      <td>18</td>\n",
       "      <td>Yes</td>\n",
       "      <td>aanya@gmail.com</td>\n",
       "    </tr>\n",
       "    <tr>\n",
       "      <th>1</th>\n",
       "      <td>Fatima</td>\n",
       "      <td>Rs</td>\n",
       "      <td>20</td>\n",
       "      <td>Yes</td>\n",
       "      <td>f@gmail.com</td>\n",
       "    </tr>\n",
       "    <tr>\n",
       "      <th>2</th>\n",
       "      <td>Rohan</td>\n",
       "      <td>Singh</td>\n",
       "      <td>18</td>\n",
       "      <td>Yes</td>\n",
       "      <td>bali@gmail.com</td>\n",
       "    </tr>\n",
       "    <tr>\n",
       "      <th>3</th>\n",
       "      <td>Aditi</td>\n",
       "      <td>Schoetz</td>\n",
       "      <td>13</td>\n",
       "      <td>No</td>\n",
       "      <td>aditi@gmail.com</td>\n",
       "    </tr>\n",
       "    <tr>\n",
       "      <th>4</th>\n",
       "      <td>Lion</td>\n",
       "      <td>Roar</td>\n",
       "      <td>12</td>\n",
       "      <td>No</td>\n",
       "      <td>sds@g.com</td>\n",
       "    </tr>\n",
       "    <tr>\n",
       "      <th>5</th>\n",
       "      <td>Shaun</td>\n",
       "      <td>Mendes</td>\n",
       "      <td>21</td>\n",
       "      <td>Yes</td>\n",
       "      <td>mendes@gmail.com</td>\n",
       "    </tr>\n",
       "    <tr>\n",
       "      <th>6</th>\n",
       "      <td>Lion</td>\n",
       "      <td>Roar</td>\n",
       "      <td>12</td>\n",
       "      <td>No</td>\n",
       "      <td>sds@g.com</td>\n",
       "    </tr>\n",
       "    <tr>\n",
       "      <th>7</th>\n",
       "      <td>King</td>\n",
       "      <td>Khan</td>\n",
       "      <td>5</td>\n",
       "      <td>No</td>\n",
       "      <td>kk@gmail.com</td>\n",
       "    </tr>\n",
       "    <tr>\n",
       "      <th>8</th>\n",
       "      <td>Shaun</td>\n",
       "      <td>Mendes</td>\n",
       "      <td>21</td>\n",
       "      <td>Yes</td>\n",
       "      <td>mendes@gmail.com</td>\n",
       "    </tr>\n",
       "  </tbody>\n",
       "</table>\n",
       "</div>"
      ],
      "text/plain": [
       "    first      last Age Adult             email\n",
       "0   Aanya  Tripathi  18   Yes   aanya@gmail.com\n",
       "1  Fatima        Rs  20   Yes       f@gmail.com\n",
       "2   Rohan     Singh  18   Yes    bali@gmail.com\n",
       "3   Aditi   Schoetz  13    No   aditi@gmail.com\n",
       "4    Lion      Roar  12    No         sds@g.com\n",
       "5   Shaun    Mendes  21   Yes  mendes@gmail.com\n",
       "6    Lion      Roar  12    No         sds@g.com\n",
       "7    King      Khan   5    No      kk@gmail.com\n",
       "8   Shaun    Mendes  21   Yes  mendes@gmail.com"
      ]
     },
     "execution_count": 142,
     "metadata": {},
     "output_type": "execute_result"
    }
   ],
   "source": [
    "df"
   ]
  },
  {
   "cell_type": "code",
   "execution_count": 143,
   "id": "aaa19a55",
   "metadata": {},
   "outputs": [],
   "source": [
    "df.drop(index=df[df['last']=='Khan'].index, inplace=True)"
   ]
  },
  {
   "cell_type": "code",
   "execution_count": 144,
   "id": "ebb1a399",
   "metadata": {},
   "outputs": [
    {
     "data": {
      "text/html": [
       "<div>\n",
       "<style scoped>\n",
       "    .dataframe tbody tr th:only-of-type {\n",
       "        vertical-align: middle;\n",
       "    }\n",
       "\n",
       "    .dataframe tbody tr th {\n",
       "        vertical-align: top;\n",
       "    }\n",
       "\n",
       "    .dataframe thead th {\n",
       "        text-align: right;\n",
       "    }\n",
       "</style>\n",
       "<table border=\"1\" class=\"dataframe\">\n",
       "  <thead>\n",
       "    <tr style=\"text-align: right;\">\n",
       "      <th></th>\n",
       "      <th>first</th>\n",
       "      <th>last</th>\n",
       "      <th>Age</th>\n",
       "      <th>Adult</th>\n",
       "      <th>email</th>\n",
       "    </tr>\n",
       "  </thead>\n",
       "  <tbody>\n",
       "    <tr>\n",
       "      <th>0</th>\n",
       "      <td>Aanya</td>\n",
       "      <td>Tripathi</td>\n",
       "      <td>18</td>\n",
       "      <td>Yes</td>\n",
       "      <td>aanya@gmail.com</td>\n",
       "    </tr>\n",
       "    <tr>\n",
       "      <th>1</th>\n",
       "      <td>Fatima</td>\n",
       "      <td>Rs</td>\n",
       "      <td>20</td>\n",
       "      <td>Yes</td>\n",
       "      <td>f@gmail.com</td>\n",
       "    </tr>\n",
       "    <tr>\n",
       "      <th>2</th>\n",
       "      <td>Rohan</td>\n",
       "      <td>Singh</td>\n",
       "      <td>18</td>\n",
       "      <td>Yes</td>\n",
       "      <td>bali@gmail.com</td>\n",
       "    </tr>\n",
       "    <tr>\n",
       "      <th>3</th>\n",
       "      <td>Aditi</td>\n",
       "      <td>Schoetz</td>\n",
       "      <td>13</td>\n",
       "      <td>No</td>\n",
       "      <td>aditi@gmail.com</td>\n",
       "    </tr>\n",
       "    <tr>\n",
       "      <th>4</th>\n",
       "      <td>Lion</td>\n",
       "      <td>Roar</td>\n",
       "      <td>12</td>\n",
       "      <td>No</td>\n",
       "      <td>sds@g.com</td>\n",
       "    </tr>\n",
       "    <tr>\n",
       "      <th>5</th>\n",
       "      <td>Shaun</td>\n",
       "      <td>Mendes</td>\n",
       "      <td>21</td>\n",
       "      <td>Yes</td>\n",
       "      <td>mendes@gmail.com</td>\n",
       "    </tr>\n",
       "    <tr>\n",
       "      <th>6</th>\n",
       "      <td>Lion</td>\n",
       "      <td>Roar</td>\n",
       "      <td>12</td>\n",
       "      <td>No</td>\n",
       "      <td>sds@g.com</td>\n",
       "    </tr>\n",
       "    <tr>\n",
       "      <th>8</th>\n",
       "      <td>Shaun</td>\n",
       "      <td>Mendes</td>\n",
       "      <td>21</td>\n",
       "      <td>Yes</td>\n",
       "      <td>mendes@gmail.com</td>\n",
       "    </tr>\n",
       "  </tbody>\n",
       "</table>\n",
       "</div>"
      ],
      "text/plain": [
       "    first      last Age Adult             email\n",
       "0   Aanya  Tripathi  18   Yes   aanya@gmail.com\n",
       "1  Fatima        Rs  20   Yes       f@gmail.com\n",
       "2   Rohan     Singh  18   Yes    bali@gmail.com\n",
       "3   Aditi   Schoetz  13    No   aditi@gmail.com\n",
       "4    Lion      Roar  12    No         sds@g.com\n",
       "5   Shaun    Mendes  21   Yes  mendes@gmail.com\n",
       "6    Lion      Roar  12    No         sds@g.com\n",
       "8   Shaun    Mendes  21   Yes  mendes@gmail.com"
      ]
     },
     "execution_count": 144,
     "metadata": {},
     "output_type": "execute_result"
    }
   ],
   "source": [
    "df"
   ]
  },
  {
   "cell_type": "code",
   "execution_count": 145,
   "id": "60beeac4",
   "metadata": {},
   "outputs": [
    {
     "data": {
      "text/html": [
       "<div>\n",
       "<style scoped>\n",
       "    .dataframe tbody tr th:only-of-type {\n",
       "        vertical-align: middle;\n",
       "    }\n",
       "\n",
       "    .dataframe tbody tr th {\n",
       "        vertical-align: top;\n",
       "    }\n",
       "\n",
       "    .dataframe thead th {\n",
       "        text-align: right;\n",
       "    }\n",
       "</style>\n",
       "<table border=\"1\" class=\"dataframe\">\n",
       "  <thead>\n",
       "    <tr style=\"text-align: right;\">\n",
       "      <th></th>\n",
       "      <th>first</th>\n",
       "      <th>last</th>\n",
       "      <th>Age</th>\n",
       "      <th>Adult</th>\n",
       "      <th>email</th>\n",
       "    </tr>\n",
       "  </thead>\n",
       "  <tbody>\n",
       "    <tr>\n",
       "      <th>0</th>\n",
       "      <td>Aanya</td>\n",
       "      <td>Tripathi</td>\n",
       "      <td>18</td>\n",
       "      <td>Yes</td>\n",
       "      <td>aanya@gmail.com</td>\n",
       "    </tr>\n",
       "    <tr>\n",
       "      <th>1</th>\n",
       "      <td>Fatima</td>\n",
       "      <td>Rs</td>\n",
       "      <td>20</td>\n",
       "      <td>Yes</td>\n",
       "      <td>f@gmail.com</td>\n",
       "    </tr>\n",
       "    <tr>\n",
       "      <th>2</th>\n",
       "      <td>Rohan</td>\n",
       "      <td>Singh</td>\n",
       "      <td>18</td>\n",
       "      <td>Yes</td>\n",
       "      <td>bali@gmail.com</td>\n",
       "    </tr>\n",
       "    <tr>\n",
       "      <th>3</th>\n",
       "      <td>Aditi</td>\n",
       "      <td>Schoetz</td>\n",
       "      <td>13</td>\n",
       "      <td>No</td>\n",
       "      <td>aditi@gmail.com</td>\n",
       "    </tr>\n",
       "    <tr>\n",
       "      <th>4</th>\n",
       "      <td>Lion</td>\n",
       "      <td>Roar</td>\n",
       "      <td>12</td>\n",
       "      <td>No</td>\n",
       "      <td>sds@g.com</td>\n",
       "    </tr>\n",
       "    <tr>\n",
       "      <th>5</th>\n",
       "      <td>Shaun</td>\n",
       "      <td>Mendes</td>\n",
       "      <td>21</td>\n",
       "      <td>Yes</td>\n",
       "      <td>mendes@gmail.com</td>\n",
       "    </tr>\n",
       "    <tr>\n",
       "      <th>6</th>\n",
       "      <td>Lion</td>\n",
       "      <td>Roar</td>\n",
       "      <td>12</td>\n",
       "      <td>No</td>\n",
       "      <td>sds@g.com</td>\n",
       "    </tr>\n",
       "    <tr>\n",
       "      <th>7</th>\n",
       "      <td>Shaun</td>\n",
       "      <td>Mendes</td>\n",
       "      <td>21</td>\n",
       "      <td>Yes</td>\n",
       "      <td>mendes@gmail.com</td>\n",
       "    </tr>\n",
       "    <tr>\n",
       "      <th>8</th>\n",
       "      <td>Aanya</td>\n",
       "      <td>Schoetz</td>\n",
       "      <td>20</td>\n",
       "      <td>Yes</td>\n",
       "      <td>aanya@hotmail.com</td>\n",
       "    </tr>\n",
       "  </tbody>\n",
       "</table>\n",
       "</div>"
      ],
      "text/plain": [
       "    first      last Age Adult              email\n",
       "0   Aanya  Tripathi  18   Yes    aanya@gmail.com\n",
       "1  Fatima        Rs  20   Yes        f@gmail.com\n",
       "2   Rohan     Singh  18   Yes     bali@gmail.com\n",
       "3   Aditi   Schoetz  13    No    aditi@gmail.com\n",
       "4    Lion      Roar  12    No          sds@g.com\n",
       "5   Shaun    Mendes  21   Yes   mendes@gmail.com\n",
       "6    Lion      Roar  12    No          sds@g.com\n",
       "7   Shaun    Mendes  21   Yes   mendes@gmail.com\n",
       "8   Aanya   Schoetz  20   Yes  aanya@hotmail.com"
      ]
     },
     "execution_count": 145,
     "metadata": {},
     "output_type": "execute_result"
    }
   ],
   "source": [
    "df.append({'first':'Aanya','last':'Schoetz','Age':20,'Adult':'Yes','email':'aanya@hotmail.com'}, ignore_index=True)"
   ]
  },
  {
   "cell_type": "code",
   "execution_count": 146,
   "id": "bf732b1b",
   "metadata": {},
   "outputs": [
    {
     "ename": "TypeError",
     "evalue": "'<' not supported between instances of 'str' and 'int'",
     "output_type": "error",
     "traceback": [
      "\u001b[0;31m---------------------------------------------------------------------------\u001b[0m",
      "\u001b[0;31mTypeError\u001b[0m                                 Traceback (most recent call last)",
      "Cell \u001b[0;32mIn[146], line 1\u001b[0m\n\u001b[0;32m----> 1\u001b[0m \u001b[43mdf\u001b[49m\u001b[38;5;241;43m.\u001b[39;49m\u001b[43msort_values\u001b[49m\u001b[43m(\u001b[49m\u001b[43mby\u001b[49m\u001b[38;5;241;43m=\u001b[39;49m\u001b[38;5;124;43m'\u001b[39;49m\u001b[38;5;124;43mAge\u001b[39;49m\u001b[38;5;124;43m'\u001b[39;49m\u001b[43m)\u001b[49m\n",
      "File \u001b[0;32m/Library/Frameworks/Python.framework/Versions/3.9/lib/python3.9/site-packages/pandas/util/_decorators.py:311\u001b[0m, in \u001b[0;36mdeprecate_nonkeyword_arguments.<locals>.decorate.<locals>.wrapper\u001b[0;34m(*args, **kwargs)\u001b[0m\n\u001b[1;32m    305\u001b[0m \u001b[38;5;28;01mif\u001b[39;00m \u001b[38;5;28mlen\u001b[39m(args) \u001b[38;5;241m>\u001b[39m num_allow_args:\n\u001b[1;32m    306\u001b[0m     warnings\u001b[38;5;241m.\u001b[39mwarn(\n\u001b[1;32m    307\u001b[0m         msg\u001b[38;5;241m.\u001b[39mformat(arguments\u001b[38;5;241m=\u001b[39marguments),\n\u001b[1;32m    308\u001b[0m         \u001b[38;5;167;01mFutureWarning\u001b[39;00m,\n\u001b[1;32m    309\u001b[0m         stacklevel\u001b[38;5;241m=\u001b[39mstacklevel,\n\u001b[1;32m    310\u001b[0m     )\n\u001b[0;32m--> 311\u001b[0m \u001b[38;5;28;01mreturn\u001b[39;00m \u001b[43mfunc\u001b[49m\u001b[43m(\u001b[49m\u001b[38;5;241;43m*\u001b[39;49m\u001b[43margs\u001b[49m\u001b[43m,\u001b[49m\u001b[43m \u001b[49m\u001b[38;5;241;43m*\u001b[39;49m\u001b[38;5;241;43m*\u001b[39;49m\u001b[43mkwargs\u001b[49m\u001b[43m)\u001b[49m\n",
      "File \u001b[0;32m/Library/Frameworks/Python.framework/Versions/3.9/lib/python3.9/site-packages/pandas/core/frame.py:6265\u001b[0m, in \u001b[0;36mDataFrame.sort_values\u001b[0;34m(self, by, axis, ascending, inplace, kind, na_position, ignore_index, key)\u001b[0m\n\u001b[1;32m   6262\u001b[0m     \u001b[38;5;28;01mif\u001b[39;00m \u001b[38;5;28misinstance\u001b[39m(ascending, (\u001b[38;5;28mtuple\u001b[39m, \u001b[38;5;28mlist\u001b[39m)):\n\u001b[1;32m   6263\u001b[0m         ascending \u001b[38;5;241m=\u001b[39m ascending[\u001b[38;5;241m0\u001b[39m]\n\u001b[0;32m-> 6265\u001b[0m     indexer \u001b[38;5;241m=\u001b[39m \u001b[43mnargsort\u001b[49m\u001b[43m(\u001b[49m\n\u001b[1;32m   6266\u001b[0m \u001b[43m        \u001b[49m\u001b[43mk\u001b[49m\u001b[43m,\u001b[49m\u001b[43m \u001b[49m\u001b[43mkind\u001b[49m\u001b[38;5;241;43m=\u001b[39;49m\u001b[43mkind\u001b[49m\u001b[43m,\u001b[49m\u001b[43m \u001b[49m\u001b[43mascending\u001b[49m\u001b[38;5;241;43m=\u001b[39;49m\u001b[43mascending\u001b[49m\u001b[43m,\u001b[49m\u001b[43m \u001b[49m\u001b[43mna_position\u001b[49m\u001b[38;5;241;43m=\u001b[39;49m\u001b[43mna_position\u001b[49m\u001b[43m,\u001b[49m\u001b[43m \u001b[49m\u001b[43mkey\u001b[49m\u001b[38;5;241;43m=\u001b[39;49m\u001b[43mkey\u001b[49m\n\u001b[1;32m   6267\u001b[0m \u001b[43m    \u001b[49m\u001b[43m)\u001b[49m\n\u001b[1;32m   6268\u001b[0m \u001b[38;5;28;01melse\u001b[39;00m:\n\u001b[1;32m   6269\u001b[0m     \u001b[38;5;28;01mreturn\u001b[39;00m \u001b[38;5;28mself\u001b[39m\u001b[38;5;241m.\u001b[39mcopy()\n",
      "File \u001b[0;32m/Library/Frameworks/Python.framework/Versions/3.9/lib/python3.9/site-packages/pandas/core/sorting.py:403\u001b[0m, in \u001b[0;36mnargsort\u001b[0;34m(items, kind, ascending, na_position, key, mask)\u001b[0m\n\u001b[1;32m    401\u001b[0m     non_nans \u001b[38;5;241m=\u001b[39m non_nans[::\u001b[38;5;241m-\u001b[39m\u001b[38;5;241m1\u001b[39m]\n\u001b[1;32m    402\u001b[0m     non_nan_idx \u001b[38;5;241m=\u001b[39m non_nan_idx[::\u001b[38;5;241m-\u001b[39m\u001b[38;5;241m1\u001b[39m]\n\u001b[0;32m--> 403\u001b[0m indexer \u001b[38;5;241m=\u001b[39m non_nan_idx[\u001b[43mnon_nans\u001b[49m\u001b[38;5;241;43m.\u001b[39;49m\u001b[43margsort\u001b[49m\u001b[43m(\u001b[49m\u001b[43mkind\u001b[49m\u001b[38;5;241;43m=\u001b[39;49m\u001b[43mkind\u001b[49m\u001b[43m)\u001b[49m]\n\u001b[1;32m    404\u001b[0m \u001b[38;5;28;01mif\u001b[39;00m \u001b[38;5;129;01mnot\u001b[39;00m ascending:\n\u001b[1;32m    405\u001b[0m     indexer \u001b[38;5;241m=\u001b[39m indexer[::\u001b[38;5;241m-\u001b[39m\u001b[38;5;241m1\u001b[39m]\n",
      "\u001b[0;31mTypeError\u001b[0m: '<' not supported between instances of 'str' and 'int'"
     ]
    }
   ],
   "source": [
    "df.sort_values(by='Age')"
   ]
  },
  {
   "cell_type": "code",
   "execution_count": 149,
   "id": "64f7352f",
   "metadata": {},
   "outputs": [],
   "source": [
    "dict3={'first':['graham','mike','colin'],'age':[45,20,54]}"
   ]
  },
  {
   "cell_type": "code",
   "execution_count": 150,
   "id": "d598e895",
   "metadata": {},
   "outputs": [],
   "source": [
    "df3=pd.DataFrame(dict3)"
   ]
  },
  {
   "cell_type": "markdown",
   "id": "76e692ef",
   "metadata": {},
   "source": [
    "### creating new data frame"
   ]
  },
  {
   "cell_type": "code",
   "execution_count": 151,
   "id": "4b325313",
   "metadata": {},
   "outputs": [
    {
     "data": {
      "text/html": [
       "<div>\n",
       "<style scoped>\n",
       "    .dataframe tbody tr th:only-of-type {\n",
       "        vertical-align: middle;\n",
       "    }\n",
       "\n",
       "    .dataframe tbody tr th {\n",
       "        vertical-align: top;\n",
       "    }\n",
       "\n",
       "    .dataframe thead th {\n",
       "        text-align: right;\n",
       "    }\n",
       "</style>\n",
       "<table border=\"1\" class=\"dataframe\">\n",
       "  <thead>\n",
       "    <tr style=\"text-align: right;\">\n",
       "      <th></th>\n",
       "      <th>first</th>\n",
       "      <th>age</th>\n",
       "    </tr>\n",
       "  </thead>\n",
       "  <tbody>\n",
       "    <tr>\n",
       "      <th>0</th>\n",
       "      <td>graham</td>\n",
       "      <td>45</td>\n",
       "    </tr>\n",
       "    <tr>\n",
       "      <th>1</th>\n",
       "      <td>mike</td>\n",
       "      <td>20</td>\n",
       "    </tr>\n",
       "    <tr>\n",
       "      <th>2</th>\n",
       "      <td>colin</td>\n",
       "      <td>54</td>\n",
       "    </tr>\n",
       "  </tbody>\n",
       "</table>\n",
       "</div>"
      ],
      "text/plain": [
       "    first  age\n",
       "0  graham   45\n",
       "1    mike   20\n",
       "2   colin   54"
      ]
     },
     "execution_count": 151,
     "metadata": {},
     "output_type": "execute_result"
    }
   ],
   "source": [
    "df3"
   ]
  },
  {
   "cell_type": "code",
   "execution_count": 152,
   "id": "c156029a",
   "metadata": {},
   "outputs": [
    {
     "data": {
      "text/html": [
       "<div>\n",
       "<style scoped>\n",
       "    .dataframe tbody tr th:only-of-type {\n",
       "        vertical-align: middle;\n",
       "    }\n",
       "\n",
       "    .dataframe tbody tr th {\n",
       "        vertical-align: top;\n",
       "    }\n",
       "\n",
       "    .dataframe thead th {\n",
       "        text-align: right;\n",
       "    }\n",
       "</style>\n",
       "<table border=\"1\" class=\"dataframe\">\n",
       "  <thead>\n",
       "    <tr style=\"text-align: right;\">\n",
       "      <th></th>\n",
       "      <th>first</th>\n",
       "      <th>age</th>\n",
       "    </tr>\n",
       "  </thead>\n",
       "  <tbody>\n",
       "    <tr>\n",
       "      <th>1</th>\n",
       "      <td>mike</td>\n",
       "      <td>20</td>\n",
       "    </tr>\n",
       "    <tr>\n",
       "      <th>0</th>\n",
       "      <td>graham</td>\n",
       "      <td>45</td>\n",
       "    </tr>\n",
       "    <tr>\n",
       "      <th>2</th>\n",
       "      <td>colin</td>\n",
       "      <td>54</td>\n",
       "    </tr>\n",
       "  </tbody>\n",
       "</table>\n",
       "</div>"
      ],
      "text/plain": [
       "    first  age\n",
       "1    mike   20\n",
       "0  graham   45\n",
       "2   colin   54"
      ]
     },
     "execution_count": 152,
     "metadata": {},
     "output_type": "execute_result"
    }
   ],
   "source": [
    "df3.sort_values(by='age')"
   ]
  },
  {
   "cell_type": "code",
   "execution_count": 155,
   "id": "f1e5c589",
   "metadata": {},
   "outputs": [
    {
     "data": {
      "text/html": [
       "<div>\n",
       "<style scoped>\n",
       "    .dataframe tbody tr th:only-of-type {\n",
       "        vertical-align: middle;\n",
       "    }\n",
       "\n",
       "    .dataframe tbody tr th {\n",
       "        vertical-align: top;\n",
       "    }\n",
       "\n",
       "    .dataframe thead th {\n",
       "        text-align: right;\n",
       "    }\n",
       "</style>\n",
       "<table border=\"1\" class=\"dataframe\">\n",
       "  <thead>\n",
       "    <tr style=\"text-align: right;\">\n",
       "      <th></th>\n",
       "      <th>first</th>\n",
       "      <th>last</th>\n",
       "      <th>Age</th>\n",
       "      <th>Adult</th>\n",
       "      <th>email</th>\n",
       "    </tr>\n",
       "  </thead>\n",
       "  <tbody>\n",
       "    <tr>\n",
       "      <th>5</th>\n",
       "      <td>Shaun</td>\n",
       "      <td>Mendes</td>\n",
       "      <td>21</td>\n",
       "      <td>Yes</td>\n",
       "      <td>mendes@gmail.com</td>\n",
       "    </tr>\n",
       "    <tr>\n",
       "      <th>8</th>\n",
       "      <td>Shaun</td>\n",
       "      <td>Mendes</td>\n",
       "      <td>21</td>\n",
       "      <td>Yes</td>\n",
       "      <td>mendes@gmail.com</td>\n",
       "    </tr>\n",
       "    <tr>\n",
       "      <th>4</th>\n",
       "      <td>Lion</td>\n",
       "      <td>Roar</td>\n",
       "      <td>12</td>\n",
       "      <td>No</td>\n",
       "      <td>sds@g.com</td>\n",
       "    </tr>\n",
       "    <tr>\n",
       "      <th>6</th>\n",
       "      <td>Lion</td>\n",
       "      <td>Roar</td>\n",
       "      <td>12</td>\n",
       "      <td>No</td>\n",
       "      <td>sds@g.com</td>\n",
       "    </tr>\n",
       "    <tr>\n",
       "      <th>1</th>\n",
       "      <td>Fatima</td>\n",
       "      <td>Rs</td>\n",
       "      <td>20</td>\n",
       "      <td>Yes</td>\n",
       "      <td>f@gmail.com</td>\n",
       "    </tr>\n",
       "    <tr>\n",
       "      <th>3</th>\n",
       "      <td>Aditi</td>\n",
       "      <td>Schoetz</td>\n",
       "      <td>13</td>\n",
       "      <td>No</td>\n",
       "      <td>aditi@gmail.com</td>\n",
       "    </tr>\n",
       "    <tr>\n",
       "      <th>2</th>\n",
       "      <td>Rohan</td>\n",
       "      <td>Singh</td>\n",
       "      <td>18</td>\n",
       "      <td>Yes</td>\n",
       "      <td>bali@gmail.com</td>\n",
       "    </tr>\n",
       "    <tr>\n",
       "      <th>0</th>\n",
       "      <td>Aanya</td>\n",
       "      <td>Tripathi</td>\n",
       "      <td>18</td>\n",
       "      <td>Yes</td>\n",
       "      <td>aanya@gmail.com</td>\n",
       "    </tr>\n",
       "  </tbody>\n",
       "</table>\n",
       "</div>"
      ],
      "text/plain": [
       "    first      last Age Adult             email\n",
       "5   Shaun    Mendes  21   Yes  mendes@gmail.com\n",
       "8   Shaun    Mendes  21   Yes  mendes@gmail.com\n",
       "4    Lion      Roar  12    No         sds@g.com\n",
       "6    Lion      Roar  12    No         sds@g.com\n",
       "1  Fatima        Rs  20   Yes       f@gmail.com\n",
       "3   Aditi   Schoetz  13    No   aditi@gmail.com\n",
       "2   Rohan     Singh  18   Yes    bali@gmail.com\n",
       "0   Aanya  Tripathi  18   Yes   aanya@gmail.com"
      ]
     },
     "execution_count": 155,
     "metadata": {},
     "output_type": "execute_result"
    }
   ],
   "source": [
    "df.sort_values(by=['last','first'],ascending=[True,False])"
   ]
  },
  {
   "cell_type": "code",
   "execution_count": 159,
   "id": "f1e6889c",
   "metadata": {},
   "outputs": [],
   "source": [
    "df.drop(index=[8,6],inplace=True)"
   ]
  },
  {
   "cell_type": "code",
   "execution_count": 160,
   "id": "dab309f3",
   "metadata": {},
   "outputs": [
    {
     "data": {
      "text/html": [
       "<div>\n",
       "<style scoped>\n",
       "    .dataframe tbody tr th:only-of-type {\n",
       "        vertical-align: middle;\n",
       "    }\n",
       "\n",
       "    .dataframe tbody tr th {\n",
       "        vertical-align: top;\n",
       "    }\n",
       "\n",
       "    .dataframe thead th {\n",
       "        text-align: right;\n",
       "    }\n",
       "</style>\n",
       "<table border=\"1\" class=\"dataframe\">\n",
       "  <thead>\n",
       "    <tr style=\"text-align: right;\">\n",
       "      <th></th>\n",
       "      <th>first</th>\n",
       "      <th>last</th>\n",
       "      <th>Age</th>\n",
       "      <th>Adult</th>\n",
       "      <th>email</th>\n",
       "    </tr>\n",
       "  </thead>\n",
       "  <tbody>\n",
       "    <tr>\n",
       "      <th>0</th>\n",
       "      <td>Aanya</td>\n",
       "      <td>Tripathi</td>\n",
       "      <td>18</td>\n",
       "      <td>Yes</td>\n",
       "      <td>aanya@gmail.com</td>\n",
       "    </tr>\n",
       "    <tr>\n",
       "      <th>1</th>\n",
       "      <td>Fatima</td>\n",
       "      <td>Rs</td>\n",
       "      <td>20</td>\n",
       "      <td>Yes</td>\n",
       "      <td>f@gmail.com</td>\n",
       "    </tr>\n",
       "    <tr>\n",
       "      <th>2</th>\n",
       "      <td>Rohan</td>\n",
       "      <td>Singh</td>\n",
       "      <td>18</td>\n",
       "      <td>Yes</td>\n",
       "      <td>bali@gmail.com</td>\n",
       "    </tr>\n",
       "    <tr>\n",
       "      <th>3</th>\n",
       "      <td>Aditi</td>\n",
       "      <td>Schoetz</td>\n",
       "      <td>13</td>\n",
       "      <td>No</td>\n",
       "      <td>aditi@gmail.com</td>\n",
       "    </tr>\n",
       "    <tr>\n",
       "      <th>4</th>\n",
       "      <td>Lion</td>\n",
       "      <td>Roar</td>\n",
       "      <td>12</td>\n",
       "      <td>No</td>\n",
       "      <td>sds@g.com</td>\n",
       "    </tr>\n",
       "    <tr>\n",
       "      <th>5</th>\n",
       "      <td>Shaun</td>\n",
       "      <td>Mendes</td>\n",
       "      <td>21</td>\n",
       "      <td>Yes</td>\n",
       "      <td>mendes@gmail.com</td>\n",
       "    </tr>\n",
       "  </tbody>\n",
       "</table>\n",
       "</div>"
      ],
      "text/plain": [
       "    first      last Age Adult             email\n",
       "0   Aanya  Tripathi  18   Yes   aanya@gmail.com\n",
       "1  Fatima        Rs  20   Yes       f@gmail.com\n",
       "2   Rohan     Singh  18   Yes    bali@gmail.com\n",
       "3   Aditi   Schoetz  13    No   aditi@gmail.com\n",
       "4    Lion      Roar  12    No         sds@g.com\n",
       "5   Shaun    Mendes  21   Yes  mendes@gmail.com"
      ]
     },
     "execution_count": 160,
     "metadata": {},
     "output_type": "execute_result"
    }
   ],
   "source": [
    "df"
   ]
  },
  {
   "cell_type": "code",
   "execution_count": 169,
   "id": "b2da9915",
   "metadata": {},
   "outputs": [],
   "source": [
    "df.sort_values(by=['first','last'],ascending=[True,False],inplace=True)"
   ]
  },
  {
   "cell_type": "code",
   "execution_count": 168,
   "id": "2b9178c8",
   "metadata": {},
   "outputs": [
    {
     "data": {
      "text/html": [
       "<div>\n",
       "<style scoped>\n",
       "    .dataframe tbody tr th:only-of-type {\n",
       "        vertical-align: middle;\n",
       "    }\n",
       "\n",
       "    .dataframe tbody tr th {\n",
       "        vertical-align: top;\n",
       "    }\n",
       "\n",
       "    .dataframe thead th {\n",
       "        text-align: right;\n",
       "    }\n",
       "</style>\n",
       "<table border=\"1\" class=\"dataframe\">\n",
       "  <thead>\n",
       "    <tr style=\"text-align: right;\">\n",
       "      <th></th>\n",
       "      <th>first</th>\n",
       "      <th>last</th>\n",
       "      <th>Age</th>\n",
       "      <th>Adult</th>\n",
       "      <th>email</th>\n",
       "    </tr>\n",
       "  </thead>\n",
       "  <tbody>\n",
       "    <tr>\n",
       "      <th>0</th>\n",
       "      <td>Aanya</td>\n",
       "      <td>Tripathi</td>\n",
       "      <td>18</td>\n",
       "      <td>Yes</td>\n",
       "      <td>aanya@gmail.com</td>\n",
       "    </tr>\n",
       "    <tr>\n",
       "      <th>1</th>\n",
       "      <td>Fatima</td>\n",
       "      <td>Rs</td>\n",
       "      <td>20</td>\n",
       "      <td>Yes</td>\n",
       "      <td>f@gmail.com</td>\n",
       "    </tr>\n",
       "    <tr>\n",
       "      <th>2</th>\n",
       "      <td>Rohan</td>\n",
       "      <td>Singh</td>\n",
       "      <td>18</td>\n",
       "      <td>Yes</td>\n",
       "      <td>bali@gmail.com</td>\n",
       "    </tr>\n",
       "    <tr>\n",
       "      <th>3</th>\n",
       "      <td>Aditi</td>\n",
       "      <td>Schoetz</td>\n",
       "      <td>13</td>\n",
       "      <td>No</td>\n",
       "      <td>aditi@gmail.com</td>\n",
       "    </tr>\n",
       "    <tr>\n",
       "      <th>4</th>\n",
       "      <td>Lion</td>\n",
       "      <td>Roar</td>\n",
       "      <td>12</td>\n",
       "      <td>No</td>\n",
       "      <td>sds@g.com</td>\n",
       "    </tr>\n",
       "    <tr>\n",
       "      <th>5</th>\n",
       "      <td>Shaun</td>\n",
       "      <td>Mendes</td>\n",
       "      <td>21</td>\n",
       "      <td>Yes</td>\n",
       "      <td>mendes@gmail.com</td>\n",
       "    </tr>\n",
       "  </tbody>\n",
       "</table>\n",
       "</div>"
      ],
      "text/plain": [
       "    first      last Age Adult             email\n",
       "0   Aanya  Tripathi  18   Yes   aanya@gmail.com\n",
       "1  Fatima        Rs  20   Yes       f@gmail.com\n",
       "2   Rohan     Singh  18   Yes    bali@gmail.com\n",
       "3   Aditi   Schoetz  13    No   aditi@gmail.com\n",
       "4    Lion      Roar  12    No         sds@g.com\n",
       "5   Shaun    Mendes  21   Yes  mendes@gmail.com"
      ]
     },
     "execution_count": 168,
     "metadata": {},
     "output_type": "execute_result"
    }
   ],
   "source": [
    "df.sort_index()"
   ]
  },
  {
   "cell_type": "code",
   "execution_count": 171,
   "id": "7ad9f810",
   "metadata": {},
   "outputs": [
    {
     "data": {
      "text/html": [
       "<div>\n",
       "<style scoped>\n",
       "    .dataframe tbody tr th:only-of-type {\n",
       "        vertical-align: middle;\n",
       "    }\n",
       "\n",
       "    .dataframe tbody tr th {\n",
       "        vertical-align: top;\n",
       "    }\n",
       "\n",
       "    .dataframe thead th {\n",
       "        text-align: right;\n",
       "    }\n",
       "</style>\n",
       "<table border=\"1\" class=\"dataframe\">\n",
       "  <thead>\n",
       "    <tr style=\"text-align: right;\">\n",
       "      <th></th>\n",
       "      <th>first</th>\n",
       "      <th>last</th>\n",
       "      <th>Age</th>\n",
       "      <th>Adult</th>\n",
       "      <th>email</th>\n",
       "    </tr>\n",
       "  </thead>\n",
       "  <tbody>\n",
       "    <tr>\n",
       "      <th>0</th>\n",
       "      <td>Aanya</td>\n",
       "      <td>Tripathi</td>\n",
       "      <td>18</td>\n",
       "      <td>Yes</td>\n",
       "      <td>aanya@gmail.com</td>\n",
       "    </tr>\n",
       "    <tr>\n",
       "      <th>1</th>\n",
       "      <td>Fatima</td>\n",
       "      <td>Rs</td>\n",
       "      <td>20</td>\n",
       "      <td>Yes</td>\n",
       "      <td>f@gmail.com</td>\n",
       "    </tr>\n",
       "    <tr>\n",
       "      <th>2</th>\n",
       "      <td>Rohan</td>\n",
       "      <td>Singh</td>\n",
       "      <td>18</td>\n",
       "      <td>Yes</td>\n",
       "      <td>bali@gmail.com</td>\n",
       "    </tr>\n",
       "    <tr>\n",
       "      <th>3</th>\n",
       "      <td>Aditi</td>\n",
       "      <td>Schoetz</td>\n",
       "      <td>13</td>\n",
       "      <td>No</td>\n",
       "      <td>aditi@gmail.com</td>\n",
       "    </tr>\n",
       "    <tr>\n",
       "      <th>4</th>\n",
       "      <td>Lion</td>\n",
       "      <td>Roar</td>\n",
       "      <td>12</td>\n",
       "      <td>No</td>\n",
       "      <td>sds@g.com</td>\n",
       "    </tr>\n",
       "    <tr>\n",
       "      <th>5</th>\n",
       "      <td>Shaun</td>\n",
       "      <td>Mendes</td>\n",
       "      <td>21</td>\n",
       "      <td>Yes</td>\n",
       "      <td>mendes@gmail.com</td>\n",
       "    </tr>\n",
       "  </tbody>\n",
       "</table>\n",
       "</div>"
      ],
      "text/plain": [
       "    first      last Age Adult             email\n",
       "0   Aanya  Tripathi  18   Yes   aanya@gmail.com\n",
       "1  Fatima        Rs  20   Yes       f@gmail.com\n",
       "2   Rohan     Singh  18   Yes    bali@gmail.com\n",
       "3   Aditi   Schoetz  13    No   aditi@gmail.com\n",
       "4    Lion      Roar  12    No         sds@g.com\n",
       "5   Shaun    Mendes  21   Yes  mendes@gmail.com"
      ]
     },
     "execution_count": 171,
     "metadata": {},
     "output_type": "execute_result"
    }
   ],
   "source": [
    "df.sort_index()"
   ]
  },
  {
   "cell_type": "code",
   "execution_count": 172,
   "id": "589582af",
   "metadata": {},
   "outputs": [
    {
     "data": {
      "text/html": [
       "<div>\n",
       "<style scoped>\n",
       "    .dataframe tbody tr th:only-of-type {\n",
       "        vertical-align: middle;\n",
       "    }\n",
       "\n",
       "    .dataframe tbody tr th {\n",
       "        vertical-align: top;\n",
       "    }\n",
       "\n",
       "    .dataframe thead th {\n",
       "        text-align: right;\n",
       "    }\n",
       "</style>\n",
       "<table border=\"1\" class=\"dataframe\">\n",
       "  <thead>\n",
       "    <tr style=\"text-align: right;\">\n",
       "      <th></th>\n",
       "      <th>first</th>\n",
       "      <th>last</th>\n",
       "      <th>Age</th>\n",
       "      <th>Adult</th>\n",
       "      <th>email</th>\n",
       "    </tr>\n",
       "  </thead>\n",
       "  <tbody>\n",
       "    <tr>\n",
       "      <th>0</th>\n",
       "      <td>Aanya</td>\n",
       "      <td>Tripathi</td>\n",
       "      <td>18</td>\n",
       "      <td>Yes</td>\n",
       "      <td>aanya@gmail.com</td>\n",
       "    </tr>\n",
       "    <tr>\n",
       "      <th>3</th>\n",
       "      <td>Aditi</td>\n",
       "      <td>Schoetz</td>\n",
       "      <td>13</td>\n",
       "      <td>No</td>\n",
       "      <td>aditi@gmail.com</td>\n",
       "    </tr>\n",
       "    <tr>\n",
       "      <th>1</th>\n",
       "      <td>Fatima</td>\n",
       "      <td>Rs</td>\n",
       "      <td>20</td>\n",
       "      <td>Yes</td>\n",
       "      <td>f@gmail.com</td>\n",
       "    </tr>\n",
       "    <tr>\n",
       "      <th>4</th>\n",
       "      <td>Lion</td>\n",
       "      <td>Roar</td>\n",
       "      <td>12</td>\n",
       "      <td>No</td>\n",
       "      <td>sds@g.com</td>\n",
       "    </tr>\n",
       "    <tr>\n",
       "      <th>2</th>\n",
       "      <td>Rohan</td>\n",
       "      <td>Singh</td>\n",
       "      <td>18</td>\n",
       "      <td>Yes</td>\n",
       "      <td>bali@gmail.com</td>\n",
       "    </tr>\n",
       "    <tr>\n",
       "      <th>5</th>\n",
       "      <td>Shaun</td>\n",
       "      <td>Mendes</td>\n",
       "      <td>21</td>\n",
       "      <td>Yes</td>\n",
       "      <td>mendes@gmail.com</td>\n",
       "    </tr>\n",
       "  </tbody>\n",
       "</table>\n",
       "</div>"
      ],
      "text/plain": [
       "    first      last Age Adult             email\n",
       "0   Aanya  Tripathi  18   Yes   aanya@gmail.com\n",
       "3   Aditi   Schoetz  13    No   aditi@gmail.com\n",
       "1  Fatima        Rs  20   Yes       f@gmail.com\n",
       "4    Lion      Roar  12    No         sds@g.com\n",
       "2   Rohan     Singh  18   Yes    bali@gmail.com\n",
       "5   Shaun    Mendes  21   Yes  mendes@gmail.com"
      ]
     },
     "execution_count": 172,
     "metadata": {},
     "output_type": "execute_result"
    }
   ],
   "source": [
    "df"
   ]
  },
  {
   "cell_type": "code",
   "execution_count": null,
   "id": "5471cb22",
   "metadata": {},
   "outputs": [],
   "source": []
  }
 ],
 "metadata": {
  "kernelspec": {
   "display_name": "Python 3 (ipykernel)",
   "language": "python",
   "name": "python3"
  },
  "language_info": {
   "codemirror_mode": {
    "name": "ipython",
    "version": 3
   },
   "file_extension": ".py",
   "mimetype": "text/x-python",
   "name": "python",
   "nbconvert_exporter": "python",
   "pygments_lexer": "ipython3",
   "version": "3.9.2"
  }
 },
 "nbformat": 4,
 "nbformat_minor": 5
}
